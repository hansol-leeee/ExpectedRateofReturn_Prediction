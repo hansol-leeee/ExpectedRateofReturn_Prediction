{
  "nbformat": 4,
  "nbformat_minor": 0,
  "metadata": {
    "colab": {
      "name": "Finance data_Regression.ipynb",
      "provenance": [],
      "collapsed_sections": [],
      "toc_visible": true
    },
    "kernelspec": {
      "name": "python3",
      "display_name": "Python 3"
    },
    "language_info": {
      "name": "python"
    }
  },
  "cells": [
    {
      "cell_type": "markdown",
      "metadata": {
        "id": "JDkIcqHzK_4x"
      },
      "source": [
        "##### - 빅데이터 분석과 활용 - \n",
        "- Regression 실습\n",
        "- 화 1~2 \n",
        "- 경제학과 2019110044 이한솔\n",
        "- 기대 수익률 예측하기 with Regression\n",
        "\n",
        " : 투자자의 투자 정보 데이터(Finance_data1)를 활용해 투자자의 기대 수익률을 예측하는 선형 회귀 모델을 만들었고, \n",
        " \n",
        " 이를 기초하여 투자자 기대 수익률의 영향 요소 파악 및 투자자 기대 수익률 예측을 진행하였습니다."
      ]
    },
    {
      "cell_type": "markdown",
      "metadata": {
        "id": "d56KlULsLEkj"
      },
      "source": [
        "    0. 개요\n",
        "    1. Library & Data Import\n",
        "    2. 데이터 파악 (EDA: 탐색적 데이터 분석)\n",
        "        2-1. 데이터셋 기본 정보 파악\n",
        "        2-2. 종속 변수(목표 변수) 탐색\n",
        "        2-3. 설명 변수 탐색\n",
        "        2-4. 설명변수와 종속변수 간의 관계 탐색\n",
        "\n",
        "    3. 기대 수익률 예측 모델링: 회귀 분석\n",
        "        3-1. 데이터 전처리\n",
        "        3-2. 회귀 모델링\n",
        "        3-3. 모델 해석\n",
        "        3-4. 모델 예측 결과 및 성능 평가"
      ]
    },
    {
      "cell_type": "code",
      "metadata": {
        "id": "jOJHZnAgsV3M"
      },
      "source": [
        "### 사용할 라이브러리\n",
        "import pandas as pd ### 데이터 분석을 하기 위한 파이썬 라이브러리\n",
        "import numpy as np\n",
        "import matplotlib.pyplot as plt\n",
        "import seaborn as sns\n",
        "%matplotlib inline\n",
        "\n",
        "#import warnings\n",
        "#warnings.filterwarnings(\"ignore\", category=FutureWarning)\n",
        "#warnings.filterwarnings(\"ignore\", category=DeprecationWarning)"
      ],
      "execution_count": 1,
      "outputs": []
    },
    {
      "cell_type": "markdown",
      "metadata": {
        "id": "3c_o-byLyXuN"
      },
      "source": [
        "##1. 사용할 데이터셋 가져오기 : Finance_data Dataset"
      ]
    },
    {
      "cell_type": "code",
      "metadata": {
        "colab": {
          "resources": {
            "http://localhost:8080/nbextensions/google.colab/files.js": {
              "data": "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",
              "ok": true,
              "headers": [
                [
                  "content-type",
                  "application/javascript"
                ]
              ],
              "status": 200,
              "status_text": ""
            }
          },
          "base_uri": "https://localhost:8080/",
          "height": 76
        },
        "id": "iRE0sf_ymwlT",
        "outputId": "c07947c5-56a7-4d13-a791-7518d09f9db5"
      },
      "source": [
        "from google.colab import files\n",
        "uploaded = files.upload() # Finance_data1.csv"
      ],
      "execution_count": 2,
      "outputs": [
        {
          "output_type": "display_data",
          "data": {
            "text/html": [
              "\n",
              "     <input type=\"file\" id=\"files-3c7ab40b-709f-4181-805e-344724c1ed96\" name=\"files[]\" multiple disabled\n",
              "        style=\"border:none\" />\n",
              "     <output id=\"result-3c7ab40b-709f-4181-805e-344724c1ed96\">\n",
              "      Upload widget is only available when the cell has been executed in the\n",
              "      current browser session. Please rerun this cell to enable.\n",
              "      </output>\n",
              "      <script src=\"/nbextensions/google.colab/files.js\"></script> "
            ],
            "text/plain": [
              "<IPython.core.display.HTML object>"
            ]
          },
          "metadata": {}
        },
        {
          "output_type": "stream",
          "name": "stdout",
          "text": [
            "Saving Finance_data1.csv to Finance_data1.csv\n"
          ]
        }
      ]
    },
    {
      "cell_type": "code",
      "metadata": {
        "id": "XIvZVdmbsv9q"
      },
      "source": [
        "df=pd.read_csv('./Finance_data1.csv')"
      ],
      "execution_count": 3,
      "outputs": []
    },
    {
      "cell_type": "code",
      "metadata": {
        "id": "H8yPG-WPsYIP",
        "colab": {
          "base_uri": "https://localhost:8080/",
          "height": 204
        },
        "outputId": "4e61d6d7-f5fd-41ef-f823-7d42dd841f95"
      },
      "source": [
        "# 데이터셋 구성 살펴보기\n",
        "df.head()"
      ],
      "execution_count": 4,
      "outputs": [
        {
          "output_type": "execute_result",
          "data": {
            "text/html": [
              "<div>\n",
              "<style scoped>\n",
              "    .dataframe tbody tr th:only-of-type {\n",
              "        vertical-align: middle;\n",
              "    }\n",
              "\n",
              "    .dataframe tbody tr th {\n",
              "        vertical-align: top;\n",
              "    }\n",
              "\n",
              "    .dataframe thead th {\n",
              "        text-align: right;\n",
              "    }\n",
              "</style>\n",
              "<table border=\"1\" class=\"dataframe\">\n",
              "  <thead>\n",
              "    <tr style=\"text-align: right;\">\n",
              "      <th></th>\n",
              "      <th>gender</th>\n",
              "      <th>age</th>\n",
              "      <th>Factor</th>\n",
              "      <th>Duration</th>\n",
              "      <th>Invest_Monitor</th>\n",
              "      <th>Expect</th>\n",
              "      <th>Equity_Market</th>\n",
              "      <th>Debentures</th>\n",
              "      <th>Government_Bonds</th>\n",
              "      <th>Fixed_Deposits</th>\n",
              "    </tr>\n",
              "  </thead>\n",
              "  <tbody>\n",
              "    <tr>\n",
              "      <th>0</th>\n",
              "      <td>Female</td>\n",
              "      <td>34</td>\n",
              "      <td>Returns</td>\n",
              "      <td>2</td>\n",
              "      <td>Daily</td>\n",
              "      <td>20</td>\n",
              "      <td>6</td>\n",
              "      <td>3</td>\n",
              "      <td>5</td>\n",
              "      <td>1</td>\n",
              "    </tr>\n",
              "    <tr>\n",
              "      <th>1</th>\n",
              "      <td>Female</td>\n",
              "      <td>23</td>\n",
              "      <td>Returns</td>\n",
              "      <td>5</td>\n",
              "      <td>Weekly</td>\n",
              "      <td>40</td>\n",
              "      <td>5</td>\n",
              "      <td>6</td>\n",
              "      <td>7</td>\n",
              "      <td>3</td>\n",
              "    </tr>\n",
              "    <tr>\n",
              "      <th>2</th>\n",
              "      <td>Male</td>\n",
              "      <td>30</td>\n",
              "      <td>Returns</td>\n",
              "      <td>4</td>\n",
              "      <td>Daily</td>\n",
              "      <td>30</td>\n",
              "      <td>2</td>\n",
              "      <td>4</td>\n",
              "      <td>6</td>\n",
              "      <td>3</td>\n",
              "    </tr>\n",
              "    <tr>\n",
              "      <th>3</th>\n",
              "      <td>Male</td>\n",
              "      <td>22</td>\n",
              "      <td>Returns</td>\n",
              "      <td>1</td>\n",
              "      <td>Daily</td>\n",
              "      <td>10</td>\n",
              "      <td>7</td>\n",
              "      <td>5</td>\n",
              "      <td>1</td>\n",
              "      <td>2</td>\n",
              "    </tr>\n",
              "    <tr>\n",
              "      <th>4</th>\n",
              "      <td>Female</td>\n",
              "      <td>24</td>\n",
              "      <td>Returns</td>\n",
              "      <td>1</td>\n",
              "      <td>Daily</td>\n",
              "      <td>20</td>\n",
              "      <td>7</td>\n",
              "      <td>5</td>\n",
              "      <td>2</td>\n",
              "      <td>4</td>\n",
              "    </tr>\n",
              "  </tbody>\n",
              "</table>\n",
              "</div>"
            ],
            "text/plain": [
              "   gender  age   Factor  ...  Debentures Government_Bonds  Fixed_Deposits\n",
              "0  Female   34  Returns  ...           3                5               1\n",
              "1  Female   23  Returns  ...           6                7               3\n",
              "2    Male   30  Returns  ...           4                6               3\n",
              "3    Male   22  Returns  ...           5                1               2\n",
              "4  Female   24  Returns  ...           5                2               4\n",
              "\n",
              "[5 rows x 10 columns]"
            ]
          },
          "metadata": {},
          "execution_count": 4
        }
      ]
    },
    {
      "cell_type": "markdown",
      "metadata": {
        "id": "kaf0UtHpzKiG"
      },
      "source": [
        "#### 1-1. 데이터 살펴보기 :Features Descriptions\n",
        "\n",
        "각 변수의 의미는 다음과 같습니다:\n",
        "\n",
        "    1. gender : 성별\n",
        "    2. age : 나이\n",
        "    3. Factor : 투자 시 고려 요소\n",
        "    4. Duration : 투자금 예치를 원하는 기간(년)\n",
        "    5. Invest_Monitor : 투자 수단 모니터링 간격(기간)\n",
        "    6. Expect : 기대 수익률(%)\n",
        "\n",
        "    * 7~10 : 해당 투자 수단을 선호하는 정도는? \n",
        "    (1:매우 선호하지 않음, 7: 매우 선호)\n",
        "    7. Equity_Market : 주식시장 선호도\n",
        "    8. Debentures : 채권 선호도\n",
        "    9. Government_Bonds : 국채 선호도\n",
        "    10. Fixed_Deposits : 정기적금 선호도"
      ]
    },
    {
      "cell_type": "markdown",
      "metadata": {
        "id": "BNX9w3WD65ea"
      },
      "source": [
        "## 2. 데이터 탐색하기 (EDA: Exploratory Data Analysis)\n",
        "데이터의 각 변수(features, attributes, columns, x들)의 기본 정보 및 각 변수의 특성\n"
      ]
    },
    {
      "cell_type": "code",
      "metadata": {
        "id": "0q_QFEzWy_6h"
      },
      "source": [
        "sns.set_style('darkgrid') #그래프 배경 설정"
      ],
      "execution_count": 5,
      "outputs": []
    },
    {
      "cell_type": "markdown",
      "metadata": {
        "id": "j3DAC85e7QEP"
      },
      "source": [
        "#### 2-1. 데이터 셋의 기본 정보 파악하기"
      ]
    },
    {
      "cell_type": "code",
      "metadata": {
        "id": "KJsUwNyh7hYO",
        "colab": {
          "base_uri": "https://localhost:8080/"
        },
        "outputId": "4eb1477e-91fb-4452-a11c-5131e04218ea"
      },
      "source": [
        "### 데이터 셋 구조 보기\n",
        "df.shape #(행 40개, 열 10개)"
      ],
      "execution_count": 6,
      "outputs": [
        {
          "output_type": "execute_result",
          "data": {
            "text/plain": [
              "(40, 10)"
            ]
          },
          "metadata": {},
          "execution_count": 6
        }
      ]
    },
    {
      "cell_type": "code",
      "metadata": {
        "id": "KxX8XADg8zbQ",
        "colab": {
          "base_uri": "https://localhost:8080/"
        },
        "outputId": "31d9e46c-0dc4-4a2d-ee97-42ddffded788"
      },
      "source": [
        "### 결측치 : 비어있는 데이터 찾기\n",
        "df.isnull().sum() #결측치 없음"
      ],
      "execution_count": 7,
      "outputs": [
        {
          "output_type": "execute_result",
          "data": {
            "text/plain": [
              "gender              0\n",
              "age                 0\n",
              "Factor              0\n",
              "Duration            0\n",
              "Invest_Monitor      0\n",
              "Expect              0\n",
              "Equity_Market       0\n",
              "Debentures          0\n",
              "Government_Bonds    0\n",
              "Fixed_Deposits      0\n",
              "dtype: int64"
            ]
          },
          "metadata": {},
          "execution_count": 7
        }
      ]
    },
    {
      "cell_type": "code",
      "metadata": {
        "id": "QQs3R2cf9RVO",
        "colab": {
          "base_uri": "https://localhost:8080/"
        },
        "outputId": "8e6e96dc-a656-4a7c-c422-3cae1d69afd0"
      },
      "source": [
        "### data type 확인\n",
        "df.info() "
      ],
      "execution_count": 8,
      "outputs": [
        {
          "output_type": "stream",
          "name": "stdout",
          "text": [
            "<class 'pandas.core.frame.DataFrame'>\n",
            "RangeIndex: 40 entries, 0 to 39\n",
            "Data columns (total 10 columns):\n",
            " #   Column            Non-Null Count  Dtype \n",
            "---  ------            --------------  ----- \n",
            " 0   gender            40 non-null     object\n",
            " 1   age               40 non-null     int64 \n",
            " 2   Factor            40 non-null     object\n",
            " 3   Duration          40 non-null     int64 \n",
            " 4   Invest_Monitor    40 non-null     object\n",
            " 5   Expect            40 non-null     int64 \n",
            " 6   Equity_Market     40 non-null     int64 \n",
            " 7   Debentures        40 non-null     int64 \n",
            " 8   Government_Bonds  40 non-null     int64 \n",
            " 9   Fixed_Deposits    40 non-null     int64 \n",
            "dtypes: int64(7), object(3)\n",
            "memory usage: 3.2+ KB\n"
          ]
        }
      ]
    },
    {
      "cell_type": "code",
      "metadata": {
        "id": "pl0PQ4WxMMRp"
      },
      "source": [
        "# 해설))\n",
        "# 10개의 열변수 중 \n",
        "# age(나이), Duration(투자금 예치를 원하는 기간:년),\n",
        "# Expect(기대 수익률:%), Equity_Market(주식시장 선호도), \n",
        "# Debentures(채권 선호도), Government_Bonds(국채 선호도), Fixed_Deposits(정기적금 선호도)는 정수형이고,\n",
        "# 나머지는 문자형(범주형) 변수이다."
      ],
      "execution_count": 9,
      "outputs": []
    },
    {
      "cell_type": "code",
      "metadata": {
        "id": "oEJAHfTB-GSl",
        "colab": {
          "base_uri": "https://localhost:8080/",
          "height": 297
        },
        "outputId": "5adf1387-74da-4c9f-edb1-7d2eb1773b12"
      },
      "source": [
        "### 숫자형 변수만 뽑아서 기본 통계 나타내기.\n",
        "df.describe()"
      ],
      "execution_count": 10,
      "outputs": [
        {
          "output_type": "execute_result",
          "data": {
            "text/html": [
              "<div>\n",
              "<style scoped>\n",
              "    .dataframe tbody tr th:only-of-type {\n",
              "        vertical-align: middle;\n",
              "    }\n",
              "\n",
              "    .dataframe tbody tr th {\n",
              "        vertical-align: top;\n",
              "    }\n",
              "\n",
              "    .dataframe thead th {\n",
              "        text-align: right;\n",
              "    }\n",
              "</style>\n",
              "<table border=\"1\" class=\"dataframe\">\n",
              "  <thead>\n",
              "    <tr style=\"text-align: right;\">\n",
              "      <th></th>\n",
              "      <th>age</th>\n",
              "      <th>Duration</th>\n",
              "      <th>Expect</th>\n",
              "      <th>Equity_Market</th>\n",
              "      <th>Debentures</th>\n",
              "      <th>Government_Bonds</th>\n",
              "      <th>Fixed_Deposits</th>\n",
              "    </tr>\n",
              "  </thead>\n",
              "  <tbody>\n",
              "    <tr>\n",
              "      <th>count</th>\n",
              "      <td>40.000000</td>\n",
              "      <td>40.000000</td>\n",
              "      <td>40.000000</td>\n",
              "      <td>40.000000</td>\n",
              "      <td>40.000000</td>\n",
              "      <td>40.000000</td>\n",
              "      <td>40.000000</td>\n",
              "    </tr>\n",
              "    <tr>\n",
              "      <th>mean</th>\n",
              "      <td>27.800000</td>\n",
              "      <td>2.900000</td>\n",
              "      <td>25.500000</td>\n",
              "      <td>4.525000</td>\n",
              "      <td>2.250000</td>\n",
              "      <td>3.350000</td>\n",
              "      <td>4.425000</td>\n",
              "    </tr>\n",
              "    <tr>\n",
              "      <th>std</th>\n",
              "      <td>3.560467</td>\n",
              "      <td>1.150251</td>\n",
              "      <td>8.458041</td>\n",
              "      <td>1.131994</td>\n",
              "      <td>1.675617</td>\n",
              "      <td>1.369072</td>\n",
              "      <td>1.795828</td>\n",
              "    </tr>\n",
              "    <tr>\n",
              "      <th>min</th>\n",
              "      <td>21.000000</td>\n",
              "      <td>1.000000</td>\n",
              "      <td>10.000000</td>\n",
              "      <td>2.000000</td>\n",
              "      <td>1.000000</td>\n",
              "      <td>1.000000</td>\n",
              "      <td>1.000000</td>\n",
              "    </tr>\n",
              "    <tr>\n",
              "      <th>25%</th>\n",
              "      <td>25.750000</td>\n",
              "      <td>2.000000</td>\n",
              "      <td>20.000000</td>\n",
              "      <td>4.000000</td>\n",
              "      <td>1.000000</td>\n",
              "      <td>3.000000</td>\n",
              "      <td>3.000000</td>\n",
              "    </tr>\n",
              "    <tr>\n",
              "      <th>50%</th>\n",
              "      <td>27.000000</td>\n",
              "      <td>2.000000</td>\n",
              "      <td>20.000000</td>\n",
              "      <td>4.000000</td>\n",
              "      <td>1.500000</td>\n",
              "      <td>3.000000</td>\n",
              "      <td>4.500000</td>\n",
              "    </tr>\n",
              "    <tr>\n",
              "      <th>75%</th>\n",
              "      <td>30.000000</td>\n",
              "      <td>4.000000</td>\n",
              "      <td>30.000000</td>\n",
              "      <td>5.000000</td>\n",
              "      <td>3.000000</td>\n",
              "      <td>4.000000</td>\n",
              "      <td>5.250000</td>\n",
              "    </tr>\n",
              "    <tr>\n",
              "      <th>max</th>\n",
              "      <td>35.000000</td>\n",
              "      <td>5.000000</td>\n",
              "      <td>40.000000</td>\n",
              "      <td>7.000000</td>\n",
              "      <td>7.000000</td>\n",
              "      <td>7.000000</td>\n",
              "      <td>7.000000</td>\n",
              "    </tr>\n",
              "  </tbody>\n",
              "</table>\n",
              "</div>"
            ],
            "text/plain": [
              "             age   Duration  ...  Government_Bonds  Fixed_Deposits\n",
              "count  40.000000  40.000000  ...         40.000000       40.000000\n",
              "mean   27.800000   2.900000  ...          3.350000        4.425000\n",
              "std     3.560467   1.150251  ...          1.369072        1.795828\n",
              "min    21.000000   1.000000  ...          1.000000        1.000000\n",
              "25%    25.750000   2.000000  ...          3.000000        3.000000\n",
              "50%    27.000000   2.000000  ...          3.000000        4.500000\n",
              "75%    30.000000   4.000000  ...          4.000000        5.250000\n",
              "max    35.000000   5.000000  ...          7.000000        7.000000\n",
              "\n",
              "[8 rows x 7 columns]"
            ]
          },
          "metadata": {},
          "execution_count": 10
        }
      ]
    },
    {
      "cell_type": "markdown",
      "metadata": {
        "id": "vxACyeDY7IS1"
      },
      "source": [
        "#### 2-2 종속변수(타겟변수, y)의 탐색\n",
        "\n",
        "    - Expect : 기대 수익률이 타겟변수가 됩니다. 투자자의 정보를 바탕으로 투자자의 기대 수익률을 맞출 것이기 때문입니다."
      ]
    },
    {
      "cell_type": "code",
      "metadata": {
        "id": "a-9BzGt97CmW",
        "colab": {
          "base_uri": "https://localhost:8080/"
        },
        "outputId": "f95ae7bc-433a-40f7-b6b8-9d3254e718b0"
      },
      "source": [
        "### Expect의 기초 통계량을 다시 살펴본다.\n",
        "\n",
        "df['Expect'].describe()"
      ],
      "execution_count": 11,
      "outputs": [
        {
          "output_type": "execute_result",
          "data": {
            "text/plain": [
              "count    40.000000\n",
              "mean     25.500000\n",
              "std       8.458041\n",
              "min      10.000000\n",
              "25%      20.000000\n",
              "50%      20.000000\n",
              "75%      30.000000\n",
              "max      40.000000\n",
              "Name: Expect, dtype: float64"
            ]
          },
          "metadata": {},
          "execution_count": 11
        }
      ]
    },
    {
      "cell_type": "code",
      "metadata": {
        "id": "qHkY76mSIV94",
        "colab": {
          "base_uri": "https://localhost:8080/",
          "height": 283
        },
        "outputId": "e5b5cea3-1fb7-4459-c250-800020933e8d"
      },
      "source": [
        "### 시각화를 통해 데이터의 분포 파악\n",
        "\n",
        "df['Expect'].hist(bins=4) #히스토그램"
      ],
      "execution_count": 12,
      "outputs": [
        {
          "output_type": "execute_result",
          "data": {
            "text/plain": [
              "<matplotlib.axes._subplots.AxesSubplot at 0x7f5012878250>"
            ]
          },
          "metadata": {},
          "execution_count": 12
        },
        {
          "output_type": "display_data",
          "data": {
            "image/png": "[encoded data removed]",
            "text/plain": [
              "<Figure size 432x288 with 1 Axes>"
            ]
          },
          "metadata": {}
        }
      ]
    },
    {
      "cell_type": "code",
      "metadata": {
        "id": "V90BZVKhL3Wd",
        "colab": {
          "base_uri": "https://localhost:8080/",
          "height": 265
        },
        "outputId": "67e6fc55-fb11-4c49-883d-7b0532af052b"
      },
      "source": [
        "plt.boxplot(df['Expect']) #상자그림\n",
        "plt.show()"
      ],
      "execution_count": 13,
      "outputs": [
        {
          "output_type": "display_data",
          "data": {
            "image/png": "[encoded data removed]",
            "text/plain": [
              "<Figure size 432x288 with 1 Axes>"
            ]
          },
          "metadata": {}
        }
      ]
    },
    {
      "cell_type": "code",
      "metadata": {
        "id": "lqJ-spkbM4uv",
        "colab": {
          "base_uri": "https://localhost:8080/",
          "height": 266
        },
        "outputId": "4ede0c4a-623c-4214-f8dd-141fa21ce86c"
      },
      "source": [
        "df['Expect'].value_counts().plot.pie(autopct='%1.1f%%')"
      ],
      "execution_count": 14,
      "outputs": [
        {
          "output_type": "execute_result",
          "data": {
            "text/plain": [
              "<matplotlib.axes._subplots.AxesSubplot at 0x7f5011ff65d0>"
            ]
          },
          "metadata": {},
          "execution_count": 14
        },
        {
          "output_type": "display_data",
          "data": {
            "image/png": "[encoded data removed]",
            "text/plain": [
              "<Figure size 432x288 with 1 Axes>"
            ]
          },
          "metadata": {}
        }
      ]
    },
    {
      "cell_type": "code",
      "metadata": {
        "id": "rUyBqMcAMUQ5"
      },
      "source": [
        "# 해설) Expect는 10~40 사이에 분포되어있고 20의 비중이 45%로 가장 크다."
      ],
      "execution_count": 15,
      "outputs": []
    },
    {
      "cell_type": "markdown",
      "metadata": {
        "id": "snwwdBYfNuDN"
      },
      "source": [
        "#### 2-3 설명변수(독립변수, features, attributes, x) 살펴보기\n",
        "- 각 설명변수의 특징 파악하기(시각화)\n",
        "    "
      ]
    },
    {
      "cell_type": "code",
      "metadata": {
        "id": "7uXeCbfupNei"
      },
      "source": [
        "# df 데이터를 복사해서 df2 데이터에 할당\n",
        "df2 = df.copy()"
      ],
      "execution_count": 16,
      "outputs": []
    },
    {
      "cell_type": "markdown",
      "metadata": {
        "id": "RINlQ2-jxGF4"
      },
      "source": [
        "##### 2.3.1 성별(gender)\n"
      ]
    },
    {
      "cell_type": "code",
      "metadata": {
        "id": "N1a8tjsyOmuR",
        "colab": {
          "base_uri": "https://localhost:8080/"
        },
        "outputId": "b3689e30-de16-44d3-fc08-3e3fee621f76"
      },
      "source": [
        "### 성별(gender)\n",
        "df2['gender'].value_counts() # value_counts() :열의 고유값과 개수 반환"
      ],
      "execution_count": 17,
      "outputs": [
        {
          "output_type": "execute_result",
          "data": {
            "text/plain": [
              "Male      25\n",
              "Female    15\n",
              "Name: gender, dtype: int64"
            ]
          },
          "metadata": {},
          "execution_count": 17
        }
      ]
    },
    {
      "cell_type": "code",
      "metadata": {
        "id": "I8gwKobSVbv0",
        "colab": {
          "base_uri": "https://localhost:8080/",
          "height": 142
        },
        "outputId": "99fc33dc-bcb6-412b-c36d-bcf3a2d16c8f"
      },
      "source": [
        "df2[['gender','Expect']].groupby(['gender']).mean()"
      ],
      "execution_count": 18,
      "outputs": [
        {
          "output_type": "execute_result",
          "data": {
            "text/html": [
              "<div>\n",
              "<style scoped>\n",
              "    .dataframe tbody tr th:only-of-type {\n",
              "        vertical-align: middle;\n",
              "    }\n",
              "\n",
              "    .dataframe tbody tr th {\n",
              "        vertical-align: top;\n",
              "    }\n",
              "\n",
              "    .dataframe thead th {\n",
              "        text-align: right;\n",
              "    }\n",
              "</style>\n",
              "<table border=\"1\" class=\"dataframe\">\n",
              "  <thead>\n",
              "    <tr style=\"text-align: right;\">\n",
              "      <th></th>\n",
              "      <th>Expect</th>\n",
              "    </tr>\n",
              "    <tr>\n",
              "      <th>gender</th>\n",
              "      <th></th>\n",
              "    </tr>\n",
              "  </thead>\n",
              "  <tbody>\n",
              "    <tr>\n",
              "      <th>Female</th>\n",
              "      <td>25.333333</td>\n",
              "    </tr>\n",
              "    <tr>\n",
              "      <th>Male</th>\n",
              "      <td>25.600000</td>\n",
              "    </tr>\n",
              "  </tbody>\n",
              "</table>\n",
              "</div>"
            ],
            "text/plain": [
              "           Expect\n",
              "gender           \n",
              "Female  25.333333\n",
              "Male    25.600000"
            ]
          },
          "metadata": {},
          "execution_count": 18
        }
      ]
    },
    {
      "cell_type": "code",
      "metadata": {
        "id": "eHCM7fCXVmrc"
      },
      "source": [
        "# 해설)) 여성의 평균 기대 수익률은 약 25%, 남성의 평균 기대 수익률은 약 26%.\n",
        "# 성별과 기대 수익률은 관련이 없어 보인다."
      ],
      "execution_count": 19,
      "outputs": []
    },
    {
      "cell_type": "markdown",
      "metadata": {
        "id": "FFlfmcVRxC1P"
      },
      "source": [
        "##### 2.3.2 나이(age)\n"
      ]
    },
    {
      "cell_type": "code",
      "metadata": {
        "id": "-pNpwmLBSb8W",
        "colab": {
          "base_uri": "https://localhost:8080/",
          "height": 283
        },
        "outputId": "72cc0fda-2d6f-48c1-c1c4-775050d43da1"
      },
      "source": [
        "### 나이(age)\n",
        "df2['age'].hist(bins=13) #히스토그램"
      ],
      "execution_count": 20,
      "outputs": [
        {
          "output_type": "execute_result",
          "data": {
            "text/plain": [
              "<matplotlib.axes._subplots.AxesSubplot at 0x7f5011779d10>"
            ]
          },
          "metadata": {},
          "execution_count": 20
        },
        {
          "output_type": "display_data",
          "data": {
            "image/png": "[encoded data removed]",
            "text/plain": [
              "<Figure size 432x288 with 1 Axes>"
            ]
          },
          "metadata": {}
        }
      ]
    },
    {
      "cell_type": "code",
      "metadata": {
        "id": "Xg5ot80KXQsS",
        "colab": {
          "base_uri": "https://localhost:8080/",
          "height": 295
        },
        "outputId": "762e9967-0e3c-4deb-b268-1abf6545c8b0"
      },
      "source": [
        "# scatter plot(산점도)\n",
        "n = 40\n",
        "area = (30 * np.random.rand(n))**2\n",
        "colors = np.random.rand(n)\n",
        "\n",
        "sns.scatterplot(data=df2, x='age', y='Expect', markers='o', s=area, c=colors, alpha=0.5)\n",
        "plt.title('Scatter Plot')\n",
        "plt.show()"
      ],
      "execution_count": 21,
      "outputs": [
        {
          "output_type": "display_data",
          "data": {
            "image/png": "[encoded data removed]",
            "text/plain": [
              "<Figure size 432x288 with 1 Axes>"
            ]
          },
          "metadata": {}
        }
      ]
    },
    {
      "cell_type": "code",
      "metadata": {
        "id": "h6uJ5pZxYbWV"
      },
      "source": [
        "# 해설) 산점도에서 나이와 기대 수익률 사이의 상관관계가 나타나지 않으므로 서로 관련이 없다고 추측된다."
      ],
      "execution_count": 22,
      "outputs": []
    },
    {
      "cell_type": "markdown",
      "metadata": {
        "id": "DethAjhiw_5F"
      },
      "source": [
        "##### 2.3.3 투자 시 고려 요소(Factor)\n"
      ]
    },
    {
      "cell_type": "code",
      "metadata": {
        "id": "0pXjh8CKSRqq",
        "colab": {
          "base_uri": "https://localhost:8080/",
          "height": 352
        },
        "outputId": "a08455be-43fd-44e3-9e0d-ca335af6956d"
      },
      "source": [
        "### 투자 시 고려 요소(Factor)\n",
        "sns.countplot('Factor',data=df2) #막대그래프"
      ],
      "execution_count": 23,
      "outputs": [
        {
          "output_type": "stream",
          "name": "stderr",
          "text": [
            "/usr/local/lib/python3.7/dist-packages/seaborn/_decorators.py:43: FutureWarning: Pass the following variable as a keyword arg: x. From version 0.12, the only valid positional argument will be `data`, and passing other arguments without an explicit keyword will result in an error or misinterpretation.\n",
            "  FutureWarning\n"
          ]
        },
        {
          "output_type": "execute_result",
          "data": {
            "text/plain": [
              "<matplotlib.axes._subplots.AxesSubplot at 0x7f50116fc0d0>"
            ]
          },
          "metadata": {},
          "execution_count": 23
        },
        {
          "output_type": "display_data",
          "data": {
            "image/png": "[encoded data removed]",
            "text/plain": [
              "<Figure size 432x288 with 1 Axes>"
            ]
          },
          "metadata": {}
        }
      ]
    },
    {
      "cell_type": "code",
      "metadata": {
        "id": "KKwhBNOpZUkS"
      },
      "source": [
        "# df 데이터에서 Expect의 최댓값은 40(%)이고 최솟값은 10(%)이었음.\n",
        "# 투자시 수익(Returns)을 고려하면 일반적으로 기대 수익률이 높아진다고 볼 수 있다. => 임의의 숫자 40(%)으로 변환\n",
        "# 투자시 위험(Risk)을 고려하면 일반적으로 기대 수익률이 낮아진다고 볼 수 있다. => 임의의 숫자 10(%)으로 변환\n",
        "\n",
        "df2['Factor_num'] = 0 # df2에 'Factor_num' 열을 만들어 0을 기본값으로 할당\n",
        "df2.loc[df2['Factor'] == 'Returns', 'Factor_num'] = 40 # Factor에서 'Returns'를 찾으면 Factor_num에 40을 대신 넣음\n",
        "df2.loc[df2['Factor'] == 'Risk', 'Factor_num'] = 10 # Factor에서 'Risk'를 찾으면 Factor_num에 10을 대신 넣음"
      ],
      "execution_count": 24,
      "outputs": []
    },
    {
      "cell_type": "code",
      "metadata": {
        "id": "VCFRNJUfbTKy",
        "colab": {
          "base_uri": "https://localhost:8080/",
          "height": 141
        },
        "outputId": "4435f0ea-7e76-4cc5-c685-c2056927ef00"
      },
      "source": [
        "pd.crosstab(df2.Factor_num, df2.Expect).T.style.background_gradient(cmap='summer_r')\n",
        "# 크로스탭을 이용하여 Factor_num열의 세부정보를 본다."
      ],
      "execution_count": 25,
      "outputs": [
        {
          "output_type": "execute_result",
          "data": {
            "text/html": [
              "<style  type=\"text/css\" >\n",
              "#T_aa7163c6_29f7_11ec_9a11_0242ac1c0002row0_col0,#T_aa7163c6_29f7_11ec_9a11_0242ac1c0002row0_col1{\n",
              "            background-color:  #ffff66;\n",
              "            color:  #000000;\n",
              "        }#T_aa7163c6_29f7_11ec_9a11_0242ac1c0002row1_col0{\n",
              "            background-color:  #249266;\n",
              "            color:  #000000;\n",
              "        }#T_aa7163c6_29f7_11ec_9a11_0242ac1c0002row1_col1,#T_aa7163c6_29f7_11ec_9a11_0242ac1c0002row2_col0{\n",
              "            background-color:  #008066;\n",
              "            color:  #f1f1f1;\n",
              "        }#T_aa7163c6_29f7_11ec_9a11_0242ac1c0002row2_col1{\n",
              "            background-color:  #aad466;\n",
              "            color:  #000000;\n",
              "        }#T_aa7163c6_29f7_11ec_9a11_0242ac1c0002row3_col0{\n",
              "            background-color:  #dbed66;\n",
              "            color:  #000000;\n",
              "        }#T_aa7163c6_29f7_11ec_9a11_0242ac1c0002row3_col1{\n",
              "            background-color:  #c7e366;\n",
              "            color:  #000000;\n",
              "        }</style><table id=\"T_aa7163c6_29f7_11ec_9a11_0242ac1c0002\" ><thead>    <tr>        <th class=\"index_name level0\" >Factor_num</th>        <th class=\"col_heading level0 col0\" >10</th>        <th class=\"col_heading level0 col1\" >40</th>    </tr>    <tr>        <th class=\"index_name level0\" >Expect</th>        <th class=\"blank\" ></th>        <th class=\"blank\" ></th>    </tr></thead><tbody>\n",
              "                <tr>\n",
              "                        <th id=\"T_aa7163c6_29f7_11ec_9a11_0242ac1c0002level0_row0\" class=\"row_heading level0 row0\" >10</th>\n",
              "                        <td id=\"T_aa7163c6_29f7_11ec_9a11_0242ac1c0002row0_col0\" class=\"data row0 col0\" >0</td>\n",
              "                        <td id=\"T_aa7163c6_29f7_11ec_9a11_0242ac1c0002row0_col1\" class=\"data row0 col1\" >3</td>\n",
              "            </tr>\n",
              "            <tr>\n",
              "                        <th id=\"T_aa7163c6_29f7_11ec_9a11_0242ac1c0002level0_row1\" class=\"row_heading level0 row1\" >20</th>\n",
              "                        <td id=\"T_aa7163c6_29f7_11ec_9a11_0242ac1c0002row1_col0\" class=\"data row1 col0\" >6</td>\n",
              "                        <td id=\"T_aa7163c6_29f7_11ec_9a11_0242ac1c0002row1_col1\" class=\"data row1 col1\" >12</td>\n",
              "            </tr>\n",
              "            <tr>\n",
              "                        <th id=\"T_aa7163c6_29f7_11ec_9a11_0242ac1c0002level0_row2\" class=\"row_heading level0 row2\" >30</th>\n",
              "                        <td id=\"T_aa7163c6_29f7_11ec_9a11_0242ac1c0002row2_col0\" class=\"data row2 col0\" >7</td>\n",
              "                        <td id=\"T_aa7163c6_29f7_11ec_9a11_0242ac1c0002row2_col1\" class=\"data row2 col1\" >6</td>\n",
              "            </tr>\n",
              "            <tr>\n",
              "                        <th id=\"T_aa7163c6_29f7_11ec_9a11_0242ac1c0002level0_row3\" class=\"row_heading level0 row3\" >40</th>\n",
              "                        <td id=\"T_aa7163c6_29f7_11ec_9a11_0242ac1c0002row3_col0\" class=\"data row3 col0\" >1</td>\n",
              "                        <td id=\"T_aa7163c6_29f7_11ec_9a11_0242ac1c0002row3_col1\" class=\"data row3 col1\" >5</td>\n",
              "            </tr>\n",
              "    </tbody></table>"
            ],
            "text/plain": [
              "<pandas.io.formats.style.Styler at 0x7f50130a0950>"
            ]
          },
          "metadata": {},
          "execution_count": 25
        }
      ]
    },
    {
      "cell_type": "code",
      "metadata": {
        "id": "Porj3u-Yf8Q-",
        "colab": {
          "base_uri": "https://localhost:8080/",
          "height": 142
        },
        "outputId": "89f5ec8a-38c4-44ea-f66e-a4b2b13f290c"
      },
      "source": [
        "df2[['Factor_num','Expect']].groupby(['Factor_num']).mean()"
      ],
      "execution_count": 26,
      "outputs": [
        {
          "output_type": "execute_result",
          "data": {
            "text/html": [
              "<div>\n",
              "<style scoped>\n",
              "    .dataframe tbody tr th:only-of-type {\n",
              "        vertical-align: middle;\n",
              "    }\n",
              "\n",
              "    .dataframe tbody tr th {\n",
              "        vertical-align: top;\n",
              "    }\n",
              "\n",
              "    .dataframe thead th {\n",
              "        text-align: right;\n",
              "    }\n",
              "</style>\n",
              "<table border=\"1\" class=\"dataframe\">\n",
              "  <thead>\n",
              "    <tr style=\"text-align: right;\">\n",
              "      <th></th>\n",
              "      <th>Expect</th>\n",
              "    </tr>\n",
              "    <tr>\n",
              "      <th>Factor_num</th>\n",
              "      <th></th>\n",
              "    </tr>\n",
              "  </thead>\n",
              "  <tbody>\n",
              "    <tr>\n",
              "      <th>10</th>\n",
              "      <td>26.428571</td>\n",
              "    </tr>\n",
              "    <tr>\n",
              "      <th>40</th>\n",
              "      <td>25.000000</td>\n",
              "    </tr>\n",
              "  </tbody>\n",
              "</table>\n",
              "</div>"
            ],
            "text/plain": [
              "               Expect\n",
              "Factor_num           \n",
              "10          26.428571\n",
              "40          25.000000"
            ]
          },
          "metadata": {},
          "execution_count": 26
        }
      ]
    },
    {
      "cell_type": "code",
      "metadata": {
        "id": "QDGJc9H5gg8Y"
      },
      "source": [
        "# 해설)) Factor_num이 10(Risk)일 때 기대 수익률은 약 26%이고, 40(Returns)일 때 기대 수익률은 약 25%이다.\n",
        "# Factor(투자 시 고려요소)와 Expect(기대 수익률)는 뚜렷한 상관관계가 보이지 않는다."
      ],
      "execution_count": 27,
      "outputs": []
    },
    {
      "cell_type": "markdown",
      "metadata": {
        "id": "F1l-OJaGw4A2"
      },
      "source": [
        "##### 2.3.4 투자금 예치를 원하는 기간(년) (Duration)\n"
      ]
    },
    {
      "cell_type": "code",
      "metadata": {
        "id": "WgqE7cfAULMn",
        "colab": {
          "base_uri": "https://localhost:8080/",
          "height": 283
        },
        "outputId": "a0d1c5c8-91a2-49d9-ddac-20fc8590868d"
      },
      "source": [
        "### 투자금 예치를 원하는 기간(년) (Duration)\n",
        "df2['Duration'].hist(bins=5) #히스토그램"
      ],
      "execution_count": 28,
      "outputs": [
        {
          "output_type": "execute_result",
          "data": {
            "text/plain": [
              "<matplotlib.axes._subplots.AxesSubplot at 0x7f50113a2950>"
            ]
          },
          "metadata": {},
          "execution_count": 28
        },
        {
          "output_type": "display_data",
          "data": {
            "image/png": "[encoded data removed]",
            "text/plain": [
              "<Figure size 432x288 with 1 Axes>"
            ]
          },
          "metadata": {}
        }
      ]
    },
    {
      "cell_type": "code",
      "metadata": {
        "id": "TO966cChh2ft",
        "colab": {
          "base_uri": "https://localhost:8080/",
          "height": 204
        },
        "outputId": "7b627502-d7f4-42e3-ef58-6445847c8521"
      },
      "source": [
        "df2[['Duration','Expect']].groupby(['Duration']).mean()"
      ],
      "execution_count": 29,
      "outputs": [
        {
          "output_type": "execute_result",
          "data": {
            "text/html": [
              "<div>\n",
              "<style scoped>\n",
              "    .dataframe tbody tr th:only-of-type {\n",
              "        vertical-align: middle;\n",
              "    }\n",
              "\n",
              "    .dataframe tbody tr th {\n",
              "        vertical-align: top;\n",
              "    }\n",
              "\n",
              "    .dataframe thead th {\n",
              "        text-align: right;\n",
              "    }\n",
              "</style>\n",
              "<table border=\"1\" class=\"dataframe\">\n",
              "  <thead>\n",
              "    <tr style=\"text-align: right;\">\n",
              "      <th></th>\n",
              "      <th>Expect</th>\n",
              "    </tr>\n",
              "    <tr>\n",
              "      <th>Duration</th>\n",
              "      <th></th>\n",
              "    </tr>\n",
              "  </thead>\n",
              "  <tbody>\n",
              "    <tr>\n",
              "      <th>1</th>\n",
              "      <td>13.333333</td>\n",
              "    </tr>\n",
              "    <tr>\n",
              "      <th>2</th>\n",
              "      <td>19.444444</td>\n",
              "    </tr>\n",
              "    <tr>\n",
              "      <th>4</th>\n",
              "      <td>32.777778</td>\n",
              "    </tr>\n",
              "    <tr>\n",
              "      <th>5</th>\n",
              "      <td>40.000000</td>\n",
              "    </tr>\n",
              "  </tbody>\n",
              "</table>\n",
              "</div>"
            ],
            "text/plain": [
              "             Expect\n",
              "Duration           \n",
              "1         13.333333\n",
              "2         19.444444\n",
              "4         32.777778\n",
              "5         40.000000"
            ]
          },
          "metadata": {},
          "execution_count": 29
        }
      ]
    },
    {
      "cell_type": "code",
      "metadata": {
        "id": "b6YSZoqylKvF"
      },
      "source": [
        "# 해설)) Duration(투자금 예치를 원하는 기간)이 길어질수록 Expect(기대 수익률)는 증가한다.\n",
        "# 두 변수는 양의 상관관계를 보인다."
      ],
      "execution_count": 30,
      "outputs": []
    },
    {
      "cell_type": "markdown",
      "metadata": {
        "id": "YASE_utNwy-X"
      },
      "source": [
        "##### 2.3.5 투자 수단 모니터링 간격(Invest_Monitor)"
      ]
    },
    {
      "cell_type": "code",
      "metadata": {
        "id": "eC4UYA2rnGyw",
        "colab": {
          "base_uri": "https://localhost:8080/",
          "height": 353
        },
        "outputId": "183b7270-b626-45f8-8904-9f38f46b17c0"
      },
      "source": [
        "### 투자 수단 모니터링 간격(Invest_Monitor)\n",
        "sns.countplot('Invest_Monitor',data=df2) #막대그래프"
      ],
      "execution_count": 31,
      "outputs": [
        {
          "output_type": "stream",
          "name": "stderr",
          "text": [
            "/usr/local/lib/python3.7/dist-packages/seaborn/_decorators.py:43: FutureWarning: Pass the following variable as a keyword arg: x. From version 0.12, the only valid positional argument will be `data`, and passing other arguments without an explicit keyword will result in an error or misinterpretation.\n",
            "  FutureWarning\n"
          ]
        },
        {
          "output_type": "execute_result",
          "data": {
            "text/plain": [
              "<matplotlib.axes._subplots.AxesSubplot at 0x7f50110c9810>"
            ]
          },
          "metadata": {},
          "execution_count": 31
        },
        {
          "output_type": "display_data",
          "data": {
            "image/png": "[encoded data removed]",
            "text/plain": [
              "<Figure size 432x288 with 1 Axes>"
            ]
          },
          "metadata": {}
        }
      ]
    },
    {
      "cell_type": "code",
      "metadata": {
        "id": "r414p6zXnoS0"
      },
      "source": [
        "# df 데이터에서 Expect의 값은 10(%), 20(%), 30(%), 40(%)였음.  \n",
        "# 투자시 한 달 간격(Monthly)으로 모니터링하면 한 달에 약 1번 모니터링하는 것이다. => 숫자 1(번)으로 변환\n",
        "# 투자시 일주일 간격(Weekly)으로 모니터링하면 한 달에 약 5번 모니터링하는 것이다. => 숫자 5(번)으로 변환\n",
        "# 투자시 하루 간격(Daily)으로 모니터링하면 한 달에 약 30번 모니터링하는 것이다. => 숫자 30(번)으로 변환\n",
        "\n",
        "df2['Invest_Monitor_num'] = 0 # df2에 'Invest_Monitor_num' 열을 만들어 0을 기본값으로 할당\n",
        "df2.loc[df2['Invest_Monitor'] == 'Monthly', 'Invest_Monitor_num'] = 1 # Invest_Monitor에서 'Montly'를 찾으면 Invest_Monitor_num에 1을 대신 넣음\n",
        "df2.loc[df2['Invest_Monitor'] == 'Weekly', 'Invest_Monitor_num'] = 5 # Invest_Monitor에서 'Weekly'를 찾으면 Invest_Monitor_num에 5을 대신 넣음\n",
        "df2.loc[df2['Invest_Monitor'] == 'Daily', 'Invest_Monitor_num'] = 30 # Invest_Monitor에서 'Daily'를 찾으면 Invest_Monitor_num에 30을 대신 넣음"
      ],
      "execution_count": 32,
      "outputs": []
    },
    {
      "cell_type": "code",
      "metadata": {
        "id": "5vwMBzJdq8Nx",
        "colab": {
          "base_uri": "https://localhost:8080/",
          "height": 141
        },
        "outputId": "cd044c44-1b48-4964-a1cf-2e9fbbc59877"
      },
      "source": [
        "pd.crosstab(df2.Invest_Monitor_num, df2.Expect).T.style.background_gradient(cmap='summer_r')\n",
        "# 크로스탭을 이용하여 Invest_Monitor_num열의 세부정보를 본다."
      ],
      "execution_count": 33,
      "outputs": [
        {
          "output_type": "execute_result",
          "data": {
            "text/html": [
              "<style  type=\"text/css\" >\n",
              "#T_aad92f06_29f7_11ec_9a11_0242ac1c0002row0_col0,#T_aad92f06_29f7_11ec_9a11_0242ac1c0002row0_col1,#T_aad92f06_29f7_11ec_9a11_0242ac1c0002row3_col2{\n",
              "            background-color:  #ffff66;\n",
              "            color:  #000000;\n",
              "        }#T_aad92f06_29f7_11ec_9a11_0242ac1c0002row0_col2,#T_aad92f06_29f7_11ec_9a11_0242ac1c0002row1_col0,#T_aad92f06_29f7_11ec_9a11_0242ac1c0002row1_col1,#T_aad92f06_29f7_11ec_9a11_0242ac1c0002row1_col2{\n",
              "            background-color:  #008066;\n",
              "            color:  #f1f1f1;\n",
              "        }#T_aad92f06_29f7_11ec_9a11_0242ac1c0002row2_col0{\n",
              "            background-color:  #178b66;\n",
              "            color:  #000000;\n",
              "        }#T_aad92f06_29f7_11ec_9a11_0242ac1c0002row2_col1{\n",
              "            background-color:  #7fbf66;\n",
              "            color:  #000000;\n",
              "        }#T_aad92f06_29f7_11ec_9a11_0242ac1c0002row2_col2{\n",
              "            background-color:  #aad466;\n",
              "            color:  #000000;\n",
              "        }#T_aad92f06_29f7_11ec_9a11_0242ac1c0002row3_col0{\n",
              "            background-color:  #8bc566;\n",
              "            color:  #000000;\n",
              "        }#T_aad92f06_29f7_11ec_9a11_0242ac1c0002row3_col1{\n",
              "            background-color:  #bfdf66;\n",
              "            color:  #000000;\n",
              "        }</style><table id=\"T_aad92f06_29f7_11ec_9a11_0242ac1c0002\" ><thead>    <tr>        <th class=\"index_name level0\" >Invest_Monitor_num</th>        <th class=\"col_heading level0 col0\" >1</th>        <th class=\"col_heading level0 col1\" >5</th>        <th class=\"col_heading level0 col2\" >30</th>    </tr>    <tr>        <th class=\"index_name level0\" >Expect</th>        <th class=\"blank\" ></th>        <th class=\"blank\" ></th>        <th class=\"blank\" ></th>    </tr></thead><tbody>\n",
              "                <tr>\n",
              "                        <th id=\"T_aad92f06_29f7_11ec_9a11_0242ac1c0002level0_row0\" class=\"row_heading level0 row0\" >10</th>\n",
              "                        <td id=\"T_aad92f06_29f7_11ec_9a11_0242ac1c0002row0_col0\" class=\"data row0 col0\" >0</td>\n",
              "                        <td id=\"T_aad92f06_29f7_11ec_9a11_0242ac1c0002row0_col1\" class=\"data row0 col1\" >0</td>\n",
              "                        <td id=\"T_aad92f06_29f7_11ec_9a11_0242ac1c0002row0_col2\" class=\"data row0 col2\" >3</td>\n",
              "            </tr>\n",
              "            <tr>\n",
              "                        <th id=\"T_aad92f06_29f7_11ec_9a11_0242ac1c0002level0_row1\" class=\"row_heading level0 row1\" >20</th>\n",
              "                        <td id=\"T_aad92f06_29f7_11ec_9a11_0242ac1c0002row1_col0\" class=\"data row1 col0\" >11</td>\n",
              "                        <td id=\"T_aad92f06_29f7_11ec_9a11_0242ac1c0002row1_col1\" class=\"data row1 col1\" >4</td>\n",
              "                        <td id=\"T_aad92f06_29f7_11ec_9a11_0242ac1c0002row1_col2\" class=\"data row1 col2\" >3</td>\n",
              "            </tr>\n",
              "            <tr>\n",
              "                        <th id=\"T_aad92f06_29f7_11ec_9a11_0242ac1c0002level0_row2\" class=\"row_heading level0 row2\" >30</th>\n",
              "                        <td id=\"T_aad92f06_29f7_11ec_9a11_0242ac1c0002row2_col0\" class=\"data row2 col0\" >10</td>\n",
              "                        <td id=\"T_aad92f06_29f7_11ec_9a11_0242ac1c0002row2_col1\" class=\"data row2 col1\" >2</td>\n",
              "                        <td id=\"T_aad92f06_29f7_11ec_9a11_0242ac1c0002row2_col2\" class=\"data row2 col2\" >1</td>\n",
              "            </tr>\n",
              "            <tr>\n",
              "                        <th id=\"T_aad92f06_29f7_11ec_9a11_0242ac1c0002level0_row3\" class=\"row_heading level0 row3\" >40</th>\n",
              "                        <td id=\"T_aad92f06_29f7_11ec_9a11_0242ac1c0002row3_col0\" class=\"data row3 col0\" >5</td>\n",
              "                        <td id=\"T_aad92f06_29f7_11ec_9a11_0242ac1c0002row3_col1\" class=\"data row3 col1\" >1</td>\n",
              "                        <td id=\"T_aad92f06_29f7_11ec_9a11_0242ac1c0002row3_col2\" class=\"data row3 col2\" >0</td>\n",
              "            </tr>\n",
              "    </tbody></table>"
            ],
            "text/plain": [
              "<pandas.io.formats.style.Styler at 0x7f50110dafd0>"
            ]
          },
          "metadata": {},
          "execution_count": 33
        }
      ]
    },
    {
      "cell_type": "code",
      "metadata": {
        "id": "ZxKebmhKrKyE",
        "colab": {
          "base_uri": "https://localhost:8080/",
          "height": 173
        },
        "outputId": "84f02317-ed35-42e8-86e8-1500f05f01d1"
      },
      "source": [
        "df2[['Invest_Monitor_num','Expect']].groupby(['Invest_Monitor_num']).mean()"
      ],
      "execution_count": 34,
      "outputs": [
        {
          "output_type": "execute_result",
          "data": {
            "text/html": [
              "<div>\n",
              "<style scoped>\n",
              "    .dataframe tbody tr th:only-of-type {\n",
              "        vertical-align: middle;\n",
              "    }\n",
              "\n",
              "    .dataframe tbody tr th {\n",
              "        vertical-align: top;\n",
              "    }\n",
              "\n",
              "    .dataframe thead th {\n",
              "        text-align: right;\n",
              "    }\n",
              "</style>\n",
              "<table border=\"1\" class=\"dataframe\">\n",
              "  <thead>\n",
              "    <tr style=\"text-align: right;\">\n",
              "      <th></th>\n",
              "      <th>Expect</th>\n",
              "    </tr>\n",
              "    <tr>\n",
              "      <th>Invest_Monitor_num</th>\n",
              "      <th></th>\n",
              "    </tr>\n",
              "  </thead>\n",
              "  <tbody>\n",
              "    <tr>\n",
              "      <th>1</th>\n",
              "      <td>27.692308</td>\n",
              "    </tr>\n",
              "    <tr>\n",
              "      <th>5</th>\n",
              "      <td>25.714286</td>\n",
              "    </tr>\n",
              "    <tr>\n",
              "      <th>30</th>\n",
              "      <td>17.142857</td>\n",
              "    </tr>\n",
              "  </tbody>\n",
              "</table>\n",
              "</div>"
            ],
            "text/plain": [
              "                       Expect\n",
              "Invest_Monitor_num           \n",
              "1                   27.692308\n",
              "5                   25.714286\n",
              "30                  17.142857"
            ]
          },
          "metadata": {},
          "execution_count": 34
        }
      ]
    },
    {
      "cell_type": "code",
      "metadata": {
        "id": "bAPVnLnor7ix"
      },
      "source": [
        "# 해설)) \n",
        "# Invest_Monitor_num이\n",
        "# 1(Monthly)일 때 기대 수익률은 약 28%이고,\n",
        "# 5(Weekly)일 때 기대 수익률은 약 26%이고,\n",
        "# 30(Daily)일 때 기대 수익률은 약 17%이다.\n",
        "\n",
        "# Invest_Monitor_num(투자 수단 모니터링 간격)와 Expect(기대 수익률)는 음의 상관관계가 있는 것 같다."
      ],
      "execution_count": 35,
      "outputs": []
    },
    {
      "cell_type": "markdown",
      "metadata": {
        "id": "ReXV2Rrjv2lH"
      },
      "source": [
        "##### 2.3.6 주식시장 선호도(Equity_Market)"
      ]
    },
    {
      "cell_type": "code",
      "metadata": {
        "id": "yn0LyHkD0SEn",
        "colab": {
          "base_uri": "https://localhost:8080/",
          "height": 283
        },
        "outputId": "7879088e-3913-4c48-e305-4525e4f018ff"
      },
      "source": [
        "### 주식시장 선호도(Equity_Market)\n",
        "df2['Equity_Market'].hist(bins=7) #히스토그램"
      ],
      "execution_count": 36,
      "outputs": [
        {
          "output_type": "execute_result",
          "data": {
            "text/plain": [
              "<matplotlib.axes._subplots.AxesSubplot at 0x7f50110367d0>"
            ]
          },
          "metadata": {},
          "execution_count": 36
        },
        {
          "output_type": "display_data",
          "data": {
            "image/png": "[encoded data removed]",
            "text/plain": [
              "<Figure size 432x288 with 1 Axes>"
            ]
          },
          "metadata": {}
        }
      ]
    },
    {
      "cell_type": "code",
      "metadata": {
        "colab": {
          "base_uri": "https://localhost:8080/",
          "height": 266
        },
        "id": "V6-zjZR8FGwK",
        "outputId": "f9ccce23-2fa5-4b41-ed7d-57c3c7dd8ecf"
      },
      "source": [
        "df2[['Equity_Market','Expect']].groupby(['Equity_Market']).mean()"
      ],
      "execution_count": 37,
      "outputs": [
        {
          "output_type": "execute_result",
          "data": {
            "text/html": [
              "<div>\n",
              "<style scoped>\n",
              "    .dataframe tbody tr th:only-of-type {\n",
              "        vertical-align: middle;\n",
              "    }\n",
              "\n",
              "    .dataframe tbody tr th {\n",
              "        vertical-align: top;\n",
              "    }\n",
              "\n",
              "    .dataframe thead th {\n",
              "        text-align: right;\n",
              "    }\n",
              "</style>\n",
              "<table border=\"1\" class=\"dataframe\">\n",
              "  <thead>\n",
              "    <tr style=\"text-align: right;\">\n",
              "      <th></th>\n",
              "      <th>Expect</th>\n",
              "    </tr>\n",
              "    <tr>\n",
              "      <th>Equity_Market</th>\n",
              "      <th></th>\n",
              "    </tr>\n",
              "  </thead>\n",
              "  <tbody>\n",
              "    <tr>\n",
              "      <th>2</th>\n",
              "      <td>30.000000</td>\n",
              "    </tr>\n",
              "    <tr>\n",
              "      <th>3</th>\n",
              "      <td>16.666667</td>\n",
              "    </tr>\n",
              "    <tr>\n",
              "      <th>4</th>\n",
              "      <td>28.125000</td>\n",
              "    </tr>\n",
              "    <tr>\n",
              "      <th>5</th>\n",
              "      <td>27.500000</td>\n",
              "    </tr>\n",
              "    <tr>\n",
              "      <th>6</th>\n",
              "      <td>20.000000</td>\n",
              "    </tr>\n",
              "    <tr>\n",
              "      <th>7</th>\n",
              "      <td>15.000000</td>\n",
              "    </tr>\n",
              "  </tbody>\n",
              "</table>\n",
              "</div>"
            ],
            "text/plain": [
              "                  Expect\n",
              "Equity_Market           \n",
              "2              30.000000\n",
              "3              16.666667\n",
              "4              28.125000\n",
              "5              27.500000\n",
              "6              20.000000\n",
              "7              15.000000"
            ]
          },
          "metadata": {},
          "execution_count": 37
        }
      ]
    },
    {
      "cell_type": "code",
      "metadata": {
        "colab": {
          "base_uri": "https://localhost:8080/",
          "height": 296
        },
        "id": "LT0_WcGpGdxd",
        "outputId": "f4f85676-d238-4f71-e25b-e94942cd89a1"
      },
      "source": [
        "# scatter plot(산점도)\n",
        "n = 40\n",
        "area = (30 * np.random.rand(n))**2\n",
        "colors = np.random.rand(n)\n",
        "\n",
        "sns.scatterplot(data=df2, x='Equity_Market', y='Expect', markers='o', s=area, c=colors, alpha=0.5)\n",
        "plt.title('Scatter Plot')\n",
        "plt.show()"
      ],
      "execution_count": 38,
      "outputs": [
        {
          "output_type": "display_data",
          "data": {
            "image/png": "[encoded data removed]",
            "text/plain": [
              "<Figure size 432x288 with 1 Axes>"
            ]
          },
          "metadata": {}
        }
      ]
    },
    {
      "cell_type": "code",
      "metadata": {
        "id": "NY9CuZG8HQ1N"
      },
      "source": [
        "# 해설) Equity_Market(주식시장 선호도)와 Expect(기대 수익률)는 뚜렷한 상관관계가 보이지 않는 것 같다."
      ],
      "execution_count": 39,
      "outputs": []
    },
    {
      "cell_type": "markdown",
      "metadata": {
        "id": "P5gFkRf875uY"
      },
      "source": [
        "##### 2.3.7 채권 선호도(Debentures)"
      ]
    },
    {
      "cell_type": "code",
      "metadata": {
        "id": "Ud1Nc9468vUl",
        "colab": {
          "base_uri": "https://localhost:8080/",
          "height": 283
        },
        "outputId": "7609133b-93b1-4bea-fcd4-71d8c43883e6"
      },
      "source": [
        "### 채권 선호도(Debentures)\n",
        "df2['Debentures'].hist(bins=7) #히스토그램"
      ],
      "execution_count": 40,
      "outputs": [
        {
          "output_type": "execute_result",
          "data": {
            "text/plain": [
              "<matplotlib.axes._subplots.AxesSubplot at 0x7f5010fbb5d0>"
            ]
          },
          "metadata": {},
          "execution_count": 40
        },
        {
          "output_type": "display_data",
          "data": {
            "image/png": "[encoded data removed]",
            "text/plain": [
              "<Figure size 432x288 with 1 Axes>"
            ]
          },
          "metadata": {}
        }
      ]
    },
    {
      "cell_type": "code",
      "metadata": {
        "colab": {
          "base_uri": "https://localhost:8080/",
          "height": 297
        },
        "id": "2cHTeZBUFhTq",
        "outputId": "eadb1e31-6eea-4374-97e0-94a07a7892dd"
      },
      "source": [
        "df2[['Debentures','Expect']].groupby(['Debentures']).mean()"
      ],
      "execution_count": 41,
      "outputs": [
        {
          "output_type": "execute_result",
          "data": {
            "text/html": [
              "<div>\n",
              "<style scoped>\n",
              "    .dataframe tbody tr th:only-of-type {\n",
              "        vertical-align: middle;\n",
              "    }\n",
              "\n",
              "    .dataframe tbody tr th {\n",
              "        vertical-align: top;\n",
              "    }\n",
              "\n",
              "    .dataframe thead th {\n",
              "        text-align: right;\n",
              "    }\n",
              "</style>\n",
              "<table border=\"1\" class=\"dataframe\">\n",
              "  <thead>\n",
              "    <tr style=\"text-align: right;\">\n",
              "      <th></th>\n",
              "      <th>Expect</th>\n",
              "    </tr>\n",
              "    <tr>\n",
              "      <th>Debentures</th>\n",
              "      <th></th>\n",
              "    </tr>\n",
              "  </thead>\n",
              "  <tbody>\n",
              "    <tr>\n",
              "      <th>1</th>\n",
              "      <td>26.500000</td>\n",
              "    </tr>\n",
              "    <tr>\n",
              "      <th>2</th>\n",
              "      <td>26.250000</td>\n",
              "    </tr>\n",
              "    <tr>\n",
              "      <th>3</th>\n",
              "      <td>30.000000</td>\n",
              "    </tr>\n",
              "    <tr>\n",
              "      <th>4</th>\n",
              "      <td>26.666667</td>\n",
              "    </tr>\n",
              "    <tr>\n",
              "      <th>5</th>\n",
              "      <td>15.000000</td>\n",
              "    </tr>\n",
              "    <tr>\n",
              "      <th>6</th>\n",
              "      <td>40.000000</td>\n",
              "    </tr>\n",
              "    <tr>\n",
              "      <th>7</th>\n",
              "      <td>10.000000</td>\n",
              "    </tr>\n",
              "  </tbody>\n",
              "</table>\n",
              "</div>"
            ],
            "text/plain": [
              "               Expect\n",
              "Debentures           \n",
              "1           26.500000\n",
              "2           26.250000\n",
              "3           30.000000\n",
              "4           26.666667\n",
              "5           15.000000\n",
              "6           40.000000\n",
              "7           10.000000"
            ]
          },
          "metadata": {},
          "execution_count": 41
        }
      ]
    },
    {
      "cell_type": "code",
      "metadata": {
        "colab": {
          "base_uri": "https://localhost:8080/",
          "height": 295
        },
        "id": "j3hZzHuuGksm",
        "outputId": "31898cd6-0c98-473f-f9c5-d42d97d419b2"
      },
      "source": [
        "# scatter plot(산점도)\n",
        "n = 40\n",
        "area = (30 * np.random.rand(n))**2\n",
        "colors = np.random.rand(n)\n",
        "\n",
        "sns.scatterplot(data=df2, x='Debentures', y='Expect', markers='o', s=area, c=colors, alpha=0.5)\n",
        "plt.title('Scatter Plot')\n",
        "plt.show()"
      ],
      "execution_count": 42,
      "outputs": [
        {
          "output_type": "display_data",
          "data": {
            "image/png": "[encoded data removed]",
            "text/plain": [
              "<Figure size 432x288 with 1 Axes>"
            ]
          },
          "metadata": {}
        }
      ]
    },
    {
      "cell_type": "code",
      "metadata": {
        "id": "NAnWWYWBHxJ8"
      },
      "source": [
        "# 해설) Debentures(채권 선호도)와 Expect(기대 수익률)는 뚜렷한 상관관계가 보이지 않는 것 같다."
      ],
      "execution_count": 43,
      "outputs": []
    },
    {
      "cell_type": "markdown",
      "metadata": {
        "id": "-1y7P-Qe8E4a"
      },
      "source": [
        "##### 2.3.8 국채 선호도(Government_Bonds)"
      ]
    },
    {
      "cell_type": "code",
      "metadata": {
        "id": "53J5G_io87af",
        "colab": {
          "base_uri": "https://localhost:8080/",
          "height": 283
        },
        "outputId": "3b73ec13-5ea0-4e71-a7ac-3794e8ba65eb"
      },
      "source": [
        "### 국채 선호도(Government_Bonds)\n",
        "df2['Government_Bonds'].hist(bins=7) #히스토그램"
      ],
      "execution_count": 44,
      "outputs": [
        {
          "output_type": "execute_result",
          "data": {
            "text/plain": [
              "<matplotlib.axes._subplots.AxesSubplot at 0x7f5010ec0750>"
            ]
          },
          "metadata": {},
          "execution_count": 44
        },
        {
          "output_type": "display_data",
          "data": {
            "image/png": "[encoded data removed]",
            "text/plain": [
              "<Figure size 432x288 with 1 Axes>"
            ]
          },
          "metadata": {}
        }
      ]
    },
    {
      "cell_type": "code",
      "metadata": {
        "colab": {
          "base_uri": "https://localhost:8080/",
          "height": 297
        },
        "id": "tQzFCXPSFpHO",
        "outputId": "52c5c2cc-5d42-4cee-855a-d1f9db0a88fc"
      },
      "source": [
        "df2[['Government_Bonds','Expect']].groupby(['Government_Bonds']).mean()"
      ],
      "execution_count": 45,
      "outputs": [
        {
          "output_type": "execute_result",
          "data": {
            "text/html": [
              "<div>\n",
              "<style scoped>\n",
              "    .dataframe tbody tr th:only-of-type {\n",
              "        vertical-align: middle;\n",
              "    }\n",
              "\n",
              "    .dataframe tbody tr th {\n",
              "        vertical-align: top;\n",
              "    }\n",
              "\n",
              "    .dataframe thead th {\n",
              "        text-align: right;\n",
              "    }\n",
              "</style>\n",
              "<table border=\"1\" class=\"dataframe\">\n",
              "  <thead>\n",
              "    <tr style=\"text-align: right;\">\n",
              "      <th></th>\n",
              "      <th>Expect</th>\n",
              "    </tr>\n",
              "    <tr>\n",
              "      <th>Government_Bonds</th>\n",
              "      <th></th>\n",
              "    </tr>\n",
              "  </thead>\n",
              "  <tbody>\n",
              "    <tr>\n",
              "      <th>1</th>\n",
              "      <td>25.000000</td>\n",
              "    </tr>\n",
              "    <tr>\n",
              "      <th>2</th>\n",
              "      <td>25.714286</td>\n",
              "    </tr>\n",
              "    <tr>\n",
              "      <th>3</th>\n",
              "      <td>26.666667</td>\n",
              "    </tr>\n",
              "    <tr>\n",
              "      <th>4</th>\n",
              "      <td>24.285714</td>\n",
              "    </tr>\n",
              "    <tr>\n",
              "      <th>5</th>\n",
              "      <td>20.000000</td>\n",
              "    </tr>\n",
              "    <tr>\n",
              "      <th>6</th>\n",
              "      <td>20.000000</td>\n",
              "    </tr>\n",
              "    <tr>\n",
              "      <th>7</th>\n",
              "      <td>40.000000</td>\n",
              "    </tr>\n",
              "  </tbody>\n",
              "</table>\n",
              "</div>"
            ],
            "text/plain": [
              "                     Expect\n",
              "Government_Bonds           \n",
              "1                 25.000000\n",
              "2                 25.714286\n",
              "3                 26.666667\n",
              "4                 24.285714\n",
              "5                 20.000000\n",
              "6                 20.000000\n",
              "7                 40.000000"
            ]
          },
          "metadata": {},
          "execution_count": 45
        }
      ]
    },
    {
      "cell_type": "code",
      "metadata": {
        "colab": {
          "base_uri": "https://localhost:8080/",
          "height": 296
        },
        "id": "ZgY5e-0iGtH_",
        "outputId": "8ca79e75-d4e7-4f50-f69c-ebc83b073bb0"
      },
      "source": [
        "# scatter plot(산점도)\n",
        "n = 40\n",
        "area = (30 * np.random.rand(n))**2\n",
        "colors = np.random.rand(n)\n",
        "\n",
        "sns.scatterplot(data=df2, x='Government_Bonds', y='Expect', markers='o', s=area, c=colors, alpha=0.5)\n",
        "plt.title('Scatter Plot')\n",
        "plt.show()"
      ],
      "execution_count": 46,
      "outputs": [
        {
          "output_type": "display_data",
          "data": {
            "image/png": "[encoded data removed]",
            "text/plain": [
              "<Figure size 432x288 with 1 Axes>"
            ]
          },
          "metadata": {}
        }
      ]
    },
    {
      "cell_type": "code",
      "metadata": {
        "id": "xbrUB3UiH-2Z"
      },
      "source": [
        "# 해설) Government_Bonds(국채 선호도)와 Expect(기대 수익률)는 뚜렷한 상관관계가 보이지 않는 것 같다."
      ],
      "execution_count": 47,
      "outputs": []
    },
    {
      "cell_type": "markdown",
      "metadata": {
        "id": "ABY6-1uM8RMS"
      },
      "source": [
        "##### 2.3.9 정기적금 선호도(Fixed_Deposits)"
      ]
    },
    {
      "cell_type": "code",
      "metadata": {
        "id": "KAunemV29CqC",
        "colab": {
          "base_uri": "https://localhost:8080/",
          "height": 283
        },
        "outputId": "556723e8-9ec1-45cd-b8ef-5a2975ed78b0"
      },
      "source": [
        "### 정기적금 선호도(Fixed_Deposits)\n",
        "df2['Fixed_Deposits'].hist(bins=7) #히스토그램"
      ],
      "execution_count": 48,
      "outputs": [
        {
          "output_type": "execute_result",
          "data": {
            "text/plain": [
              "<matplotlib.axes._subplots.AxesSubplot at 0x7f5010d7b290>"
            ]
          },
          "metadata": {},
          "execution_count": 48
        },
        {
          "output_type": "display_data",
          "data": {
            "image/png": "[encoded data removed]",
            "text/plain": [
              "<Figure size 432x288 with 1 Axes>"
            ]
          },
          "metadata": {}
        }
      ]
    },
    {
      "cell_type": "code",
      "metadata": {
        "colab": {
          "base_uri": "https://localhost:8080/",
          "height": 297
        },
        "id": "CRJqHF0FFwpA",
        "outputId": "cf6ed4b1-0e0e-4e2d-cc12-b8055ff2b765"
      },
      "source": [
        "df2[['Fixed_Deposits','Expect']].groupby(['Fixed_Deposits']).mean()"
      ],
      "execution_count": 49,
      "outputs": [
        {
          "output_type": "execute_result",
          "data": {
            "text/html": [
              "<div>\n",
              "<style scoped>\n",
              "    .dataframe tbody tr th:only-of-type {\n",
              "        vertical-align: middle;\n",
              "    }\n",
              "\n",
              "    .dataframe tbody tr th {\n",
              "        vertical-align: top;\n",
              "    }\n",
              "\n",
              "    .dataframe thead th {\n",
              "        text-align: right;\n",
              "    }\n",
              "</style>\n",
              "<table border=\"1\" class=\"dataframe\">\n",
              "  <thead>\n",
              "    <tr style=\"text-align: right;\">\n",
              "      <th></th>\n",
              "      <th>Expect</th>\n",
              "    </tr>\n",
              "    <tr>\n",
              "      <th>Fixed_Deposits</th>\n",
              "      <th></th>\n",
              "    </tr>\n",
              "  </thead>\n",
              "  <tbody>\n",
              "    <tr>\n",
              "      <th>1</th>\n",
              "      <td>13.333333</td>\n",
              "    </tr>\n",
              "    <tr>\n",
              "      <th>2</th>\n",
              "      <td>20.000000</td>\n",
              "    </tr>\n",
              "    <tr>\n",
              "      <th>3</th>\n",
              "      <td>27.500000</td>\n",
              "    </tr>\n",
              "    <tr>\n",
              "      <th>4</th>\n",
              "      <td>22.857143</td>\n",
              "    </tr>\n",
              "    <tr>\n",
              "      <th>5</th>\n",
              "      <td>26.000000</td>\n",
              "    </tr>\n",
              "    <tr>\n",
              "      <th>6</th>\n",
              "      <td>35.000000</td>\n",
              "    </tr>\n",
              "    <tr>\n",
              "      <th>7</th>\n",
              "      <td>28.750000</td>\n",
              "    </tr>\n",
              "  </tbody>\n",
              "</table>\n",
              "</div>"
            ],
            "text/plain": [
              "                   Expect\n",
              "Fixed_Deposits           \n",
              "1               13.333333\n",
              "2               20.000000\n",
              "3               27.500000\n",
              "4               22.857143\n",
              "5               26.000000\n",
              "6               35.000000\n",
              "7               28.750000"
            ]
          },
          "metadata": {},
          "execution_count": 49
        }
      ]
    },
    {
      "cell_type": "code",
      "metadata": {
        "colab": {
          "base_uri": "https://localhost:8080/",
          "height": 296
        },
        "id": "nPRZ7JahG0oc",
        "outputId": "12dfa53b-2c74-44d6-d1b4-6f189ea02d8b"
      },
      "source": [
        "# scatter plot(산점도)\n",
        "n = 40\n",
        "area = (30 * np.random.rand(n))**2\n",
        "colors = np.random.rand(n)\n",
        "\n",
        "sns.scatterplot(data=df2, x='Fixed_Deposits', y='Expect', markers='o', s=area, c=colors, alpha=0.5)\n",
        "plt.title('Scatter Plot')\n",
        "plt.show()"
      ],
      "execution_count": 50,
      "outputs": [
        {
          "output_type": "display_data",
          "data": {
            "image/png": "[encoded data removed]",
            "text/plain": [
              "<Figure size 432x288 with 1 Axes>"
            ]
          },
          "metadata": {}
        }
      ]
    },
    {
      "cell_type": "code",
      "metadata": {
        "id": "nkNllxEyIC_L"
      },
      "source": [
        "# 해설) Fixed_Deposits(정기적금 선호도)와 Expect(기대 수익률)는 뚜렷한 상관관계가 보이지 않는 것 같다."
      ],
      "execution_count": 51,
      "outputs": []
    },
    {
      "cell_type": "markdown",
      "metadata": {
        "id": "4zN9Rv3qUci7"
      },
      "source": [
        "#### 2-4. 설명변수(x) 와 종속변수(y) 간의 관계 탐색\n",
        "- 상관계수를 통해 변수 간의 정확한 상관관계 파악"
      ]
    },
    {
      "cell_type": "code",
      "metadata": {
        "id": "ZtnyJyaV_BWw",
        "colab": {
          "base_uri": "https://localhost:8080/",
          "height": 224
        },
        "outputId": "19fa9638-02ed-49c7-de3e-24c1b050b3e4"
      },
      "source": [
        "df2.head()"
      ],
      "execution_count": 52,
      "outputs": [
        {
          "output_type": "execute_result",
          "data": {
            "text/html": [
              "<div>\n",
              "<style scoped>\n",
              "    .dataframe tbody tr th:only-of-type {\n",
              "        vertical-align: middle;\n",
              "    }\n",
              "\n",
              "    .dataframe tbody tr th {\n",
              "        vertical-align: top;\n",
              "    }\n",
              "\n",
              "    .dataframe thead th {\n",
              "        text-align: right;\n",
              "    }\n",
              "</style>\n",
              "<table border=\"1\" class=\"dataframe\">\n",
              "  <thead>\n",
              "    <tr style=\"text-align: right;\">\n",
              "      <th></th>\n",
              "      <th>gender</th>\n",
              "      <th>age</th>\n",
              "      <th>Factor</th>\n",
              "      <th>Duration</th>\n",
              "      <th>Invest_Monitor</th>\n",
              "      <th>Expect</th>\n",
              "      <th>Equity_Market</th>\n",
              "      <th>Debentures</th>\n",
              "      <th>Government_Bonds</th>\n",
              "      <th>Fixed_Deposits</th>\n",
              "      <th>Factor_num</th>\n",
              "      <th>Invest_Monitor_num</th>\n",
              "    </tr>\n",
              "  </thead>\n",
              "  <tbody>\n",
              "    <tr>\n",
              "      <th>0</th>\n",
              "      <td>Female</td>\n",
              "      <td>34</td>\n",
              "      <td>Returns</td>\n",
              "      <td>2</td>\n",
              "      <td>Daily</td>\n",
              "      <td>20</td>\n",
              "      <td>6</td>\n",
              "      <td>3</td>\n",
              "      <td>5</td>\n",
              "      <td>1</td>\n",
              "      <td>40</td>\n",
              "      <td>30</td>\n",
              "    </tr>\n",
              "    <tr>\n",
              "      <th>1</th>\n",
              "      <td>Female</td>\n",
              "      <td>23</td>\n",
              "      <td>Returns</td>\n",
              "      <td>5</td>\n",
              "      <td>Weekly</td>\n",
              "      <td>40</td>\n",
              "      <td>5</td>\n",
              "      <td>6</td>\n",
              "      <td>7</td>\n",
              "      <td>3</td>\n",
              "      <td>40</td>\n",
              "      <td>5</td>\n",
              "    </tr>\n",
              "    <tr>\n",
              "      <th>2</th>\n",
              "      <td>Male</td>\n",
              "      <td>30</td>\n",
              "      <td>Returns</td>\n",
              "      <td>4</td>\n",
              "      <td>Daily</td>\n",
              "      <td>30</td>\n",
              "      <td>2</td>\n",
              "      <td>4</td>\n",
              "      <td>6</td>\n",
              "      <td>3</td>\n",
              "      <td>40</td>\n",
              "      <td>30</td>\n",
              "    </tr>\n",
              "    <tr>\n",
              "      <th>3</th>\n",
              "      <td>Male</td>\n",
              "      <td>22</td>\n",
              "      <td>Returns</td>\n",
              "      <td>1</td>\n",
              "      <td>Daily</td>\n",
              "      <td>10</td>\n",
              "      <td>7</td>\n",
              "      <td>5</td>\n",
              "      <td>1</td>\n",
              "      <td>2</td>\n",
              "      <td>40</td>\n",
              "      <td>30</td>\n",
              "    </tr>\n",
              "    <tr>\n",
              "      <th>4</th>\n",
              "      <td>Female</td>\n",
              "      <td>24</td>\n",
              "      <td>Returns</td>\n",
              "      <td>1</td>\n",
              "      <td>Daily</td>\n",
              "      <td>20</td>\n",
              "      <td>7</td>\n",
              "      <td>5</td>\n",
              "      <td>2</td>\n",
              "      <td>4</td>\n",
              "      <td>40</td>\n",
              "      <td>30</td>\n",
              "    </tr>\n",
              "  </tbody>\n",
              "</table>\n",
              "</div>"
            ],
            "text/plain": [
              "   gender  age   Factor  ...  Fixed_Deposits Factor_num  Invest_Monitor_num\n",
              "0  Female   34  Returns  ...               1         40                  30\n",
              "1  Female   23  Returns  ...               3         40                   5\n",
              "2    Male   30  Returns  ...               3         40                  30\n",
              "3    Male   22  Returns  ...               2         40                  30\n",
              "4  Female   24  Returns  ...               4         40                  30\n",
              "\n",
              "[5 rows x 12 columns]"
            ]
          },
          "metadata": {},
          "execution_count": 52
        }
      ]
    },
    {
      "cell_type": "code",
      "metadata": {
        "id": "kVytSgoMUoVE",
        "colab": {
          "base_uri": "https://localhost:8080/",
          "height": 348
        },
        "outputId": "086610fc-d8f1-4487-8b4e-b9345e0bc423"
      },
      "source": [
        "### Person 상관계수 : 대표적으로 상관관계 분석시 사용하는 지표\n",
        "### -1 에서 1 사이의 값을 가진다는 특징\n",
        "### 1일 때는 완전 양의 상관(perfect positive correlation), -1일 때는 완전 음의 상관관계(perfect negative correlation)관계를 보임\n",
        "\n",
        "# 수치형 변수에 대해 상관관계 분석\n",
        "cols = ['age', 'Duration', 'Expect', 'Equity_Market', 'Debentures', 'Government_Bonds', 'Fixed_Deposits', 'Factor_num', 'Invest_Monitor_num']\n",
        "\n",
        "corr = df2[cols].corr(method = 'pearson')\n",
        "corr"
      ],
      "execution_count": 53,
      "outputs": [
        {
          "output_type": "execute_result",
          "data": {
            "text/html": [
              "<div>\n",
              "<style scoped>\n",
              "    .dataframe tbody tr th:only-of-type {\n",
              "        vertical-align: middle;\n",
              "    }\n",
              "\n",
              "    .dataframe tbody tr th {\n",
              "        vertical-align: top;\n",
              "    }\n",
              "\n",
              "    .dataframe thead th {\n",
              "        text-align: right;\n",
              "    }\n",
              "</style>\n",
              "<table border=\"1\" class=\"dataframe\">\n",
              "  <thead>\n",
              "    <tr style=\"text-align: right;\">\n",
              "      <th></th>\n",
              "      <th>age</th>\n",
              "      <th>Duration</th>\n",
              "      <th>Expect</th>\n",
              "      <th>Equity_Market</th>\n",
              "      <th>Debentures</th>\n",
              "      <th>Government_Bonds</th>\n",
              "      <th>Fixed_Deposits</th>\n",
              "      <th>Factor_num</th>\n",
              "      <th>Invest_Monitor_num</th>\n",
              "    </tr>\n",
              "  </thead>\n",
              "  <tbody>\n",
              "    <tr>\n",
              "      <th>age</th>\n",
              "      <td>1.000000</td>\n",
              "      <td>-0.061357</td>\n",
              "      <td>-0.081739</td>\n",
              "      <td>-0.246840</td>\n",
              "      <td>-0.326638</td>\n",
              "      <td>0.093632</td>\n",
              "      <td>0.033685</td>\n",
              "      <td>-0.011927</td>\n",
              "      <td>-0.001844</td>\n",
              "    </tr>\n",
              "    <tr>\n",
              "      <th>Duration</th>\n",
              "      <td>-0.061357</td>\n",
              "      <td>1.000000</td>\n",
              "      <td>0.901362</td>\n",
              "      <td>-0.431264</td>\n",
              "      <td>-0.159643</td>\n",
              "      <td>0.087925</td>\n",
              "      <td>0.331428</td>\n",
              "      <td>-0.156904</td>\n",
              "      <td>-0.425784</td>\n",
              "    </tr>\n",
              "    <tr>\n",
              "      <th>Expect</th>\n",
              "      <td>-0.081739</td>\n",
              "      <td>0.901362</td>\n",
              "      <td>1.000000</td>\n",
              "      <td>-0.228975</td>\n",
              "      <td>-0.262337</td>\n",
              "      <td>-0.059786</td>\n",
              "      <td>0.399238</td>\n",
              "      <td>-0.081587</td>\n",
              "      <td>-0.468585</td>\n",
              "    </tr>\n",
              "    <tr>\n",
              "      <th>Equity_Market</th>\n",
              "      <td>-0.246840</td>\n",
              "      <td>-0.431264</td>\n",
              "      <td>-0.228975</td>\n",
              "      <td>1.000000</td>\n",
              "      <td>-0.016898</td>\n",
              "      <td>-0.237420</td>\n",
              "      <td>-0.238705</td>\n",
              "      <td>0.157090</td>\n",
              "      <td>0.022212</td>\n",
              "    </tr>\n",
              "    <tr>\n",
              "      <th>Debentures</th>\n",
              "      <td>-0.326638</td>\n",
              "      <td>-0.159643</td>\n",
              "      <td>-0.262337</td>\n",
              "      <td>-0.016898</td>\n",
              "      <td>1.000000</td>\n",
              "      <td>0.430323</td>\n",
              "      <td>-0.470791</td>\n",
              "      <td>0.300951</td>\n",
              "      <td>0.712524</td>\n",
              "    </tr>\n",
              "    <tr>\n",
              "      <th>Government_Bonds</th>\n",
              "      <td>0.093632</td>\n",
              "      <td>0.087925</td>\n",
              "      <td>-0.059786</td>\n",
              "      <td>-0.237420</td>\n",
              "      <td>0.430323</td>\n",
              "      <td>1.000000</td>\n",
              "      <td>-0.531359</td>\n",
              "      <td>0.306301</td>\n",
              "      <td>0.243424</td>\n",
              "    </tr>\n",
              "    <tr>\n",
              "      <th>Fixed_Deposits</th>\n",
              "      <td>0.033685</td>\n",
              "      <td>0.331428</td>\n",
              "      <td>0.399238</td>\n",
              "      <td>-0.238705</td>\n",
              "      <td>-0.470791</td>\n",
              "      <td>-0.531359</td>\n",
              "      <td>1.000000</td>\n",
              "      <td>-0.208387</td>\n",
              "      <td>-0.534180</td>\n",
              "    </tr>\n",
              "    <tr>\n",
              "      <th>Factor_num</th>\n",
              "      <td>-0.011927</td>\n",
              "      <td>-0.156904</td>\n",
              "      <td>-0.081587</td>\n",
              "      <td>0.157090</td>\n",
              "      <td>0.300951</td>\n",
              "      <td>0.306301</td>\n",
              "      <td>-0.208387</td>\n",
              "      <td>1.000000</td>\n",
              "      <td>0.212826</td>\n",
              "    </tr>\n",
              "    <tr>\n",
              "      <th>Invest_Monitor_num</th>\n",
              "      <td>-0.001844</td>\n",
              "      <td>-0.425784</td>\n",
              "      <td>-0.468585</td>\n",
              "      <td>0.022212</td>\n",
              "      <td>0.712524</td>\n",
              "      <td>0.243424</td>\n",
              "      <td>-0.534180</td>\n",
              "      <td>0.212826</td>\n",
              "      <td>1.000000</td>\n",
              "    </tr>\n",
              "  </tbody>\n",
              "</table>\n",
              "</div>"
            ],
            "text/plain": [
              "                         age  Duration  ...  Factor_num  Invest_Monitor_num\n",
              "age                 1.000000 -0.061357  ...   -0.011927           -0.001844\n",
              "Duration           -0.061357  1.000000  ...   -0.156904           -0.425784\n",
              "Expect             -0.081739  0.901362  ...   -0.081587           -0.468585\n",
              "Equity_Market      -0.246840 -0.431264  ...    0.157090            0.022212\n",
              "Debentures         -0.326638 -0.159643  ...    0.300951            0.712524\n",
              "Government_Bonds    0.093632  0.087925  ...    0.306301            0.243424\n",
              "Fixed_Deposits      0.033685  0.331428  ...   -0.208387           -0.534180\n",
              "Factor_num         -0.011927 -0.156904  ...    1.000000            0.212826\n",
              "Invest_Monitor_num -0.001844 -0.425784  ...    0.212826            1.000000\n",
              "\n",
              "[9 rows x 9 columns]"
            ]
          },
          "metadata": {},
          "execution_count": 53
        }
      ]
    },
    {
      "cell_type": "code",
      "metadata": {
        "id": "QgO3ojXmmbYw",
        "colab": {
          "base_uri": "https://localhost:8080/",
          "height": 568
        },
        "outputId": "2f6c1201-eac5-4130-d649-e6b41d4dc02c"
      },
      "source": [
        "# 상관관계 Heatmap\n",
        "\n",
        "fig = plt.figure(figsize = (10, 8))\n",
        "ax = fig.gca()\n",
        "\n",
        "sns.set(font_scale = 1.5)  # heatmap 안의 font-size 설정 \n",
        "heatmap = sns.heatmap(corr.values, annot = True, fmt='.2f', annot_kws={'size':15},\n",
        "                      yticklabels = cols, xticklabels = cols, ax=ax, cmap = \"YlGnBu\")\n",
        "plt.tight_layout()\n",
        "plt.show()"
      ],
      "execution_count": 54,
      "outputs": [
        {
          "output_type": "display_data",
          "data": {
            "image/png": "[encoded data removed]",
            "text/plain": [
              "<Figure size 720x576 with 2 Axes>"
            ]
          },
          "metadata": {}
        }
      ]
    },
    {
      "cell_type": "code",
      "metadata": {
        "id": "hBzvsuOMne7D"
      },
      "source": [
        "### 해설) \n",
        "### 우리의 관심사인 target variable **“Expect - 기대 수익률”**과 다른 변수간의 상관관계를 살펴보면,\n",
        "###“Expect - 기대 수익률”은\n",
        "###“Duration - 투자금 예치를 원하는 기간\"과 <<강한 양의 상관관계(0.9)>>를 보이고,\n",
        "### \"Fixed_Deposits - 정기적금 선호도\"와 <<약한 양의 상관관계(0.4)>>를 보이고,\n",
        "### \"Invest_Monitor_num - 투자 수단 모니터링 간격(변환값)\"과 <<약한 음의 상관관계(-0.47)>>를 보인다.  "
      ],
      "execution_count": 55,
      "outputs": []
    },
    {
      "cell_type": "markdown",
      "metadata": {
        "id": "eK9G629ioo87"
      },
      "source": [
        "##### 2.4.1 Expect(기대 수익률) - Duration(투자금 예치를 원하는 기간)의 관계"
      ]
    },
    {
      "cell_type": "code",
      "metadata": {
        "id": "uW1mvIU1oicz",
        "colab": {
          "base_uri": "https://localhost:8080/",
          "height": 318
        },
        "outputId": "9bd5ce01-8780-4070-c325-de1207afb445"
      },
      "source": [
        "# scatter plot(산점도)\n",
        "n = 40\n",
        "area = (30 * np.random.rand(n))**2\n",
        "colors = np.random.rand(n)\n",
        "\n",
        "sns.scatterplot(data=df2, x='Duration', y='Expect', markers='o', s=area, c=colors, alpha=0.5)\n",
        "plt.title('Scatter Plot')\n",
        "plt.show()"
      ],
      "execution_count": 56,
      "outputs": [
        {
          "output_type": "display_data",
          "data": {
            "image/png": "[encoded data removed]",
            "text/plain": [
              "<Figure size 432x288 with 1 Axes>"
            ]
          },
          "metadata": {}
        }
      ]
    },
    {
      "cell_type": "code",
      "metadata": {
        "id": "XfGqJXr9skUp",
        "colab": {
          "base_uri": "https://localhost:8080/",
          "height": 424
        },
        "outputId": "f72605a7-2efc-44e3-8efb-8fbdfebbf0d5"
      },
      "source": [
        "## 투자자의 투자금 예치를 원하는 기간 별 기대수익률 특징 (boxplot 이용)\n",
        "fig = plt.figure(figsize = (6, 6))\n",
        "sns.boxplot(x='Duration', y='Expect', data=df2)"
      ],
      "execution_count": 57,
      "outputs": [
        {
          "output_type": "execute_result",
          "data": {
            "text/plain": [
              "<matplotlib.axes._subplots.AxesSubplot at 0x7f500741dd50>"
            ]
          },
          "metadata": {},
          "execution_count": 57
        },
        {
          "output_type": "display_data",
          "data": {
            "image/png": "[encoded data removed]",
            "text/plain": [
              "<Figure size 432x432 with 1 Axes>"
            ]
          },
          "metadata": {}
        }
      ]
    },
    {
      "cell_type": "code",
      "metadata": {
        "id": "tkFo5bnDpzZo"
      },
      "source": [
        "### 해설))\n",
        "### 기대 수익률이 투자금 예치를 원하는 기간과 양의 상관관계(positive correlation)를 갖고 있습니다. \n",
        "### 즉, 투자금 예치를 원하는 기간이 긴 투자자의 기대 수익률이 상대적으로 높은 경향이 있습니다."
      ],
      "execution_count": 58,
      "outputs": []
    },
    {
      "cell_type": "markdown",
      "metadata": {
        "id": "miJqTiwpyeZL"
      },
      "source": [
        "##### 2.4.2 Expect(기대 수익률) - Invest_Monitor_num(투자 수단 모니터링 간격(변환값))의 관계"
      ]
    },
    {
      "cell_type": "code",
      "metadata": {
        "id": "HSfkfqmxzI96",
        "colab": {
          "base_uri": "https://localhost:8080/",
          "height": 318
        },
        "outputId": "363dbb0f-1163-42f2-89b0-0fd3e40ac86d"
      },
      "source": [
        "# scatter plot(산점도)\n",
        "n = 40\n",
        "area = (30 * np.random.rand(n))**2\n",
        "colors = np.random.rand(n)\n",
        "\n",
        "sns.scatterplot(data=df2, x='Invest_Monitor_num', y='Expect', markers='o', s=area, c=colors, alpha=0.5)\n",
        "plt.title('Scatter Plot')\n",
        "plt.show()"
      ],
      "execution_count": 59,
      "outputs": [
        {
          "output_type": "display_data",
          "data": {
            "image/png": "[encoded data removed]",
            "text/plain": [
              "<Figure size 432x288 with 1 Axes>"
            ]
          },
          "metadata": {}
        }
      ]
    },
    {
      "cell_type": "code",
      "metadata": {
        "id": "avjq7cDczXN4",
        "colab": {
          "base_uri": "https://localhost:8080/",
          "height": 424
        },
        "outputId": "a0f05ed7-af27-4271-de9e-0722526c55ae"
      },
      "source": [
        "## 투자자의 투자 수단 모니터링 간격 별 기대수익률 특징 (boxplot 이용)\n",
        "fig = plt.figure(figsize = (6, 6))\n",
        "sns.boxplot(x='Invest_Monitor', y='Expect', data=df2)"
      ],
      "execution_count": 60,
      "outputs": [
        {
          "output_type": "execute_result",
          "data": {
            "text/plain": [
              "<matplotlib.axes._subplots.AxesSubplot at 0x7f5007365ad0>"
            ]
          },
          "metadata": {},
          "execution_count": 60
        },
        {
          "output_type": "display_data",
          "data": {
            "image/png": "[encoded data removed]",
            "text/plain": [
              "<Figure size 432x432 with 1 Axes>"
            ]
          },
          "metadata": {}
        }
      ]
    },
    {
      "cell_type": "code",
      "metadata": {
        "id": "pGBxLAsbzvRR"
      },
      "source": [
        "### 해설))\n",
        "### 기대 수익률이 투자 수단 모니터링 간격(변환값)과 음의 상관관계(negative correlation)를 갖고 있습니다. \n",
        "### 즉, 투자 수단 모니터링 간격이 짧은 투자자의 기대 수익률이 상대적으로 높은 경향이 있습니다."
      ],
      "execution_count": 61,
      "outputs": []
    },
    {
      "cell_type": "markdown",
      "metadata": {
        "id": "G0ldUS7CyV-R"
      },
      "source": [
        "##### 2.4.3 Expect(기대 수익률) - Fixed_Deposits(정기적금 선호도)의 관계"
      ]
    },
    {
      "cell_type": "code",
      "metadata": {
        "id": "R5ydE5BCyoEi",
        "colab": {
          "base_uri": "https://localhost:8080/",
          "height": 318
        },
        "outputId": "8f748ca1-d354-45e5-e83e-2700d8d0c7e6"
      },
      "source": [
        "# scatter plot(산점도)\n",
        "n = 40\n",
        "area = (30 * np.random.rand(n))**2\n",
        "colors = np.random.rand(n)\n",
        "\n",
        "sns.scatterplot(data=df2, x='Fixed_Deposits', y='Expect', markers='o', s=area, c=colors, alpha=0.5)\n",
        "plt.title('Scatter Plot')\n",
        "plt.show()"
      ],
      "execution_count": 62,
      "outputs": [
        {
          "output_type": "display_data",
          "data": {
            "image/png": "[encoded data removed]",
            "text/plain": [
              "<Figure size 432x288 with 1 Axes>"
            ]
          },
          "metadata": {}
        }
      ]
    },
    {
      "cell_type": "code",
      "metadata": {
        "id": "w665fK183f2j",
        "colab": {
          "base_uri": "https://localhost:8080/",
          "height": 424
        },
        "outputId": "4965cc7e-a2d2-448c-b54f-e2665c33e19d"
      },
      "source": [
        "## 투자자의 정기적금 선호도 별 기대수익률 특징 (boxplot 이용)\n",
        "fig = plt.figure(figsize = (6, 6))\n",
        "sns.boxplot(x='Fixed_Deposits', y='Expect', data=df2)"
      ],
      "execution_count": 63,
      "outputs": [
        {
          "output_type": "execute_result",
          "data": {
            "text/plain": [
              "<matplotlib.axes._subplots.AxesSubplot at 0x7f500726ad90>"
            ]
          },
          "metadata": {},
          "execution_count": 63
        },
        {
          "output_type": "display_data",
          "data": {
            "image/png": "[encoded data removed]",
            "text/plain": [
              "<Figure size 432x432 with 1 Axes>"
            ]
          },
          "metadata": {}
        }
      ]
    },
    {
      "cell_type": "code",
      "metadata": {
        "id": "ZqmVsmgg36VF"
      },
      "source": [
        "### 해설))\n",
        "### 기대 수익률이 정기적금 선호도와 양의 상관관계(positive correlation)를 갖고 있습니다. \n",
        "### 즉, 정기적금 선호도가 높은 투자자의 기대 수익률이 상대적으로 높은 경향이 있습니다."
      ],
      "execution_count": 64,
      "outputs": []
    },
    {
      "cell_type": "markdown",
      "metadata": {
        "id": "-X2bywl4sxib"
      },
      "source": [
        "### 3. 기대 수익률 예측 모델링: 회귀분석\n",
        "- 설명변수들을 활용하여 투자자 별 기대 수익률을 예측하는 회귀 모델을 만들어 보기"
      ]
    },
    {
      "cell_type": "markdown",
      "metadata": {
        "id": "4KianF6CtNz1"
      },
      "source": [
        "#### 3-1 데이터 전처리\n",
        "- 먼저 Feature 들의 scale 차이를 없애기 위해 수치형 Feature에 대해서 표준화 진행"
      ]
    },
    {
      "cell_type": "code",
      "metadata": {
        "id": "_CfKlLIVs-Lj",
        "colab": {
          "base_uri": "https://localhost:8080/",
          "height": 224
        },
        "outputId": "d59cbbdd-b8f9-4118-d0d7-82f3af7b9540"
      },
      "source": [
        "df2.head()"
      ],
      "execution_count": 65,
      "outputs": [
        {
          "output_type": "execute_result",
          "data": {
            "text/html": [
              "<div>\n",
              "<style scoped>\n",
              "    .dataframe tbody tr th:only-of-type {\n",
              "        vertical-align: middle;\n",
              "    }\n",
              "\n",
              "    .dataframe tbody tr th {\n",
              "        vertical-align: top;\n",
              "    }\n",
              "\n",
              "    .dataframe thead th {\n",
              "        text-align: right;\n",
              "    }\n",
              "</style>\n",
              "<table border=\"1\" class=\"dataframe\">\n",
              "  <thead>\n",
              "    <tr style=\"text-align: right;\">\n",
              "      <th></th>\n",
              "      <th>gender</th>\n",
              "      <th>age</th>\n",
              "      <th>Factor</th>\n",
              "      <th>Duration</th>\n",
              "      <th>Invest_Monitor</th>\n",
              "      <th>Expect</th>\n",
              "      <th>Equity_Market</th>\n",
              "      <th>Debentures</th>\n",
              "      <th>Government_Bonds</th>\n",
              "      <th>Fixed_Deposits</th>\n",
              "      <th>Factor_num</th>\n",
              "      <th>Invest_Monitor_num</th>\n",
              "    </tr>\n",
              "  </thead>\n",
              "  <tbody>\n",
              "    <tr>\n",
              "      <th>0</th>\n",
              "      <td>Female</td>\n",
              "      <td>34</td>\n",
              "      <td>Returns</td>\n",
              "      <td>2</td>\n",
              "      <td>Daily</td>\n",
              "      <td>20</td>\n",
              "      <td>6</td>\n",
              "      <td>3</td>\n",
              "      <td>5</td>\n",
              "      <td>1</td>\n",
              "      <td>40</td>\n",
              "      <td>30</td>\n",
              "    </tr>\n",
              "    <tr>\n",
              "      <th>1</th>\n",
              "      <td>Female</td>\n",
              "      <td>23</td>\n",
              "      <td>Returns</td>\n",
              "      <td>5</td>\n",
              "      <td>Weekly</td>\n",
              "      <td>40</td>\n",
              "      <td>5</td>\n",
              "      <td>6</td>\n",
              "      <td>7</td>\n",
              "      <td>3</td>\n",
              "      <td>40</td>\n",
              "      <td>5</td>\n",
              "    </tr>\n",
              "    <tr>\n",
              "      <th>2</th>\n",
              "      <td>Male</td>\n",
              "      <td>30</td>\n",
              "      <td>Returns</td>\n",
              "      <td>4</td>\n",
              "      <td>Daily</td>\n",
              "      <td>30</td>\n",
              "      <td>2</td>\n",
              "      <td>4</td>\n",
              "      <td>6</td>\n",
              "      <td>3</td>\n",
              "      <td>40</td>\n",
              "      <td>30</td>\n",
              "    </tr>\n",
              "    <tr>\n",
              "      <th>3</th>\n",
              "      <td>Male</td>\n",
              "      <td>22</td>\n",
              "      <td>Returns</td>\n",
              "      <td>1</td>\n",
              "      <td>Daily</td>\n",
              "      <td>10</td>\n",
              "      <td>7</td>\n",
              "      <td>5</td>\n",
              "      <td>1</td>\n",
              "      <td>2</td>\n",
              "      <td>40</td>\n",
              "      <td>30</td>\n",
              "    </tr>\n",
              "    <tr>\n",
              "      <th>4</th>\n",
              "      <td>Female</td>\n",
              "      <td>24</td>\n",
              "      <td>Returns</td>\n",
              "      <td>1</td>\n",
              "      <td>Daily</td>\n",
              "      <td>20</td>\n",
              "      <td>7</td>\n",
              "      <td>5</td>\n",
              "      <td>2</td>\n",
              "      <td>4</td>\n",
              "      <td>40</td>\n",
              "      <td>30</td>\n",
              "    </tr>\n",
              "  </tbody>\n",
              "</table>\n",
              "</div>"
            ],
            "text/plain": [
              "   gender  age   Factor  ...  Fixed_Deposits Factor_num  Invest_Monitor_num\n",
              "0  Female   34  Returns  ...               1         40                  30\n",
              "1  Female   23  Returns  ...               3         40                   5\n",
              "2    Male   30  Returns  ...               3         40                  30\n",
              "3    Male   22  Returns  ...               2         40                  30\n",
              "4  Female   24  Returns  ...               4         40                  30\n",
              "\n",
              "[5 rows x 12 columns]"
            ]
          },
          "metadata": {},
          "execution_count": 65
        }
      ]
    },
    {
      "cell_type": "code",
      "metadata": {
        "id": "2RR5H7gctYx2",
        "colab": {
          "base_uri": "https://localhost:8080/"
        },
        "outputId": "58215afb-49cd-4568-e702-46b9a2a96986"
      },
      "source": [
        "df2.info()"
      ],
      "execution_count": 66,
      "outputs": [
        {
          "output_type": "stream",
          "name": "stdout",
          "text": [
            "<class 'pandas.core.frame.DataFrame'>\n",
            "RangeIndex: 40 entries, 0 to 39\n",
            "Data columns (total 12 columns):\n",
            " #   Column              Non-Null Count  Dtype \n",
            "---  ------              --------------  ----- \n",
            " 0   gender              40 non-null     object\n",
            " 1   age                 40 non-null     int64 \n",
            " 2   Factor              40 non-null     object\n",
            " 3   Duration            40 non-null     int64 \n",
            " 4   Invest_Monitor      40 non-null     object\n",
            " 5   Expect              40 non-null     int64 \n",
            " 6   Equity_Market       40 non-null     int64 \n",
            " 7   Debentures          40 non-null     int64 \n",
            " 8   Government_Bonds    40 non-null     int64 \n",
            " 9   Fixed_Deposits      40 non-null     int64 \n",
            " 10  Factor_num          40 non-null     int64 \n",
            " 11  Invest_Monitor_num  40 non-null     int64 \n",
            "dtypes: int64(9), object(3)\n",
            "memory usage: 3.9+ KB\n"
          ]
        }
      ]
    },
    {
      "cell_type": "code",
      "metadata": {
        "id": "q0lxRNsU7Rws"
      },
      "source": [
        "### Expect(종속변수)를 제외한 모든 수치형 변수에 대해서 표준화를 진행합니다.\n",
        "\n",
        "from sklearn.preprocessing import StandardScaler # sklearn : 머신러닝 모듈 라이브러리\n",
        "\n",
        "scaler = StandardScaler()  # 평균 0, 표준편차 1\n",
        "scale_columns = ['age', 'Duration', 'Equity_Market', 'Debentures', 'Government_Bonds', 'Fixed_Deposits', 'Factor_num', 'Invest_Monitor_num']\n",
        "df2[scale_columns] = scaler.fit_transform(df2[scale_columns])"
      ],
      "execution_count": 67,
      "outputs": []
    },
    {
      "cell_type": "code",
      "metadata": {
        "id": "6BRgvHFrBXQ5",
        "colab": {
          "base_uri": "https://localhost:8080/",
          "height": 224
        },
        "outputId": "0669e747-33b2-4ea9-b7a8-5f5618835025"
      },
      "source": [
        "df2.head()"
      ],
      "execution_count": 68,
      "outputs": [
        {
          "output_type": "execute_result",
          "data": {
            "text/html": [
              "<div>\n",
              "<style scoped>\n",
              "    .dataframe tbody tr th:only-of-type {\n",
              "        vertical-align: middle;\n",
              "    }\n",
              "\n",
              "    .dataframe tbody tr th {\n",
              "        vertical-align: top;\n",
              "    }\n",
              "\n",
              "    .dataframe thead th {\n",
              "        text-align: right;\n",
              "    }\n",
              "</style>\n",
              "<table border=\"1\" class=\"dataframe\">\n",
              "  <thead>\n",
              "    <tr style=\"text-align: right;\">\n",
              "      <th></th>\n",
              "      <th>gender</th>\n",
              "      <th>age</th>\n",
              "      <th>Factor</th>\n",
              "      <th>Duration</th>\n",
              "      <th>Invest_Monitor</th>\n",
              "      <th>Expect</th>\n",
              "      <th>Equity_Market</th>\n",
              "      <th>Debentures</th>\n",
              "      <th>Government_Bonds</th>\n",
              "      <th>Fixed_Deposits</th>\n",
              "      <th>Factor_num</th>\n",
              "      <th>Invest_Monitor_num</th>\n",
              "    </tr>\n",
              "  </thead>\n",
              "  <tbody>\n",
              "    <tr>\n",
              "      <th>0</th>\n",
              "      <td>Female</td>\n",
              "      <td>1.763528</td>\n",
              "      <td>Returns</td>\n",
              "      <td>-0.792406</td>\n",
              "      <td>Daily</td>\n",
              "      <td>20</td>\n",
              "      <td>1.319610</td>\n",
              "      <td>0.453298</td>\n",
              "      <td>1.220549</td>\n",
              "      <td>-1.931494</td>\n",
              "      <td>0.733799</td>\n",
              "      <td>2.150607</td>\n",
              "    </tr>\n",
              "    <tr>\n",
              "      <th>1</th>\n",
              "      <td>Female</td>\n",
              "      <td>-1.365312</td>\n",
              "      <td>Returns</td>\n",
              "      <td>1.848947</td>\n",
              "      <td>Weekly</td>\n",
              "      <td>40</td>\n",
              "      <td>0.424959</td>\n",
              "      <td>2.266492</td>\n",
              "      <td>2.700003</td>\n",
              "      <td>-0.803614</td>\n",
              "      <td>0.733799</td>\n",
              "      <td>-0.164363</td>\n",
              "    </tr>\n",
              "    <tr>\n",
              "      <th>2</th>\n",
              "      <td>Male</td>\n",
              "      <td>0.625768</td>\n",
              "      <td>Returns</td>\n",
              "      <td>0.968496</td>\n",
              "      <td>Daily</td>\n",
              "      <td>30</td>\n",
              "      <td>-2.258993</td>\n",
              "      <td>1.057696</td>\n",
              "      <td>1.960276</td>\n",
              "      <td>-0.803614</td>\n",
              "      <td>0.733799</td>\n",
              "      <td>2.150607</td>\n",
              "    </tr>\n",
              "    <tr>\n",
              "      <th>3</th>\n",
              "      <td>Male</td>\n",
              "      <td>-1.649752</td>\n",
              "      <td>Returns</td>\n",
              "      <td>-1.672857</td>\n",
              "      <td>Daily</td>\n",
              "      <td>10</td>\n",
              "      <td>2.214261</td>\n",
              "      <td>1.662094</td>\n",
              "      <td>-1.738358</td>\n",
              "      <td>-1.367554</td>\n",
              "      <td>0.733799</td>\n",
              "      <td>2.150607</td>\n",
              "    </tr>\n",
              "    <tr>\n",
              "      <th>4</th>\n",
              "      <td>Female</td>\n",
              "      <td>-1.080872</td>\n",
              "      <td>Returns</td>\n",
              "      <td>-1.672857</td>\n",
              "      <td>Daily</td>\n",
              "      <td>20</td>\n",
              "      <td>2.214261</td>\n",
              "      <td>1.662094</td>\n",
              "      <td>-0.998631</td>\n",
              "      <td>-0.239674</td>\n",
              "      <td>0.733799</td>\n",
              "      <td>2.150607</td>\n",
              "    </tr>\n",
              "  </tbody>\n",
              "</table>\n",
              "</div>"
            ],
            "text/plain": [
              "   gender       age   Factor  ...  Fixed_Deposits Factor_num  Invest_Monitor_num\n",
              "0  Female  1.763528  Returns  ...       -1.931494   0.733799            2.150607\n",
              "1  Female -1.365312  Returns  ...       -0.803614   0.733799           -0.164363\n",
              "2    Male  0.625768  Returns  ...       -0.803614   0.733799            2.150607\n",
              "3    Male -1.649752  Returns  ...       -1.367554   0.733799            2.150607\n",
              "4  Female -1.080872  Returns  ...       -0.239674   0.733799            2.150607\n",
              "\n",
              "[5 rows x 12 columns]"
            ]
          },
          "metadata": {},
          "execution_count": 68
        }
      ]
    },
    {
      "cell_type": "code",
      "metadata": {
        "id": "iqmlFVPuBZkr",
        "colab": {
          "base_uri": "https://localhost:8080/",
          "height": 204
        },
        "outputId": "a90dbb51-6225-448b-9613-03e1183a1852"
      },
      "source": [
        "df2[scale_columns].head()"
      ],
      "execution_count": 69,
      "outputs": [
        {
          "output_type": "execute_result",
          "data": {
            "text/html": [
              "<div>\n",
              "<style scoped>\n",
              "    .dataframe tbody tr th:only-of-type {\n",
              "        vertical-align: middle;\n",
              "    }\n",
              "\n",
              "    .dataframe tbody tr th {\n",
              "        vertical-align: top;\n",
              "    }\n",
              "\n",
              "    .dataframe thead th {\n",
              "        text-align: right;\n",
              "    }\n",
              "</style>\n",
              "<table border=\"1\" class=\"dataframe\">\n",
              "  <thead>\n",
              "    <tr style=\"text-align: right;\">\n",
              "      <th></th>\n",
              "      <th>age</th>\n",
              "      <th>Duration</th>\n",
              "      <th>Equity_Market</th>\n",
              "      <th>Debentures</th>\n",
              "      <th>Government_Bonds</th>\n",
              "      <th>Fixed_Deposits</th>\n",
              "      <th>Factor_num</th>\n",
              "      <th>Invest_Monitor_num</th>\n",
              "    </tr>\n",
              "  </thead>\n",
              "  <tbody>\n",
              "    <tr>\n",
              "      <th>0</th>\n",
              "      <td>1.763528</td>\n",
              "      <td>-0.792406</td>\n",
              "      <td>1.319610</td>\n",
              "      <td>0.453298</td>\n",
              "      <td>1.220549</td>\n",
              "      <td>-1.931494</td>\n",
              "      <td>0.733799</td>\n",
              "      <td>2.150607</td>\n",
              "    </tr>\n",
              "    <tr>\n",
              "      <th>1</th>\n",
              "      <td>-1.365312</td>\n",
              "      <td>1.848947</td>\n",
              "      <td>0.424959</td>\n",
              "      <td>2.266492</td>\n",
              "      <td>2.700003</td>\n",
              "      <td>-0.803614</td>\n",
              "      <td>0.733799</td>\n",
              "      <td>-0.164363</td>\n",
              "    </tr>\n",
              "    <tr>\n",
              "      <th>2</th>\n",
              "      <td>0.625768</td>\n",
              "      <td>0.968496</td>\n",
              "      <td>-2.258993</td>\n",
              "      <td>1.057696</td>\n",
              "      <td>1.960276</td>\n",
              "      <td>-0.803614</td>\n",
              "      <td>0.733799</td>\n",
              "      <td>2.150607</td>\n",
              "    </tr>\n",
              "    <tr>\n",
              "      <th>3</th>\n",
              "      <td>-1.649752</td>\n",
              "      <td>-1.672857</td>\n",
              "      <td>2.214261</td>\n",
              "      <td>1.662094</td>\n",
              "      <td>-1.738358</td>\n",
              "      <td>-1.367554</td>\n",
              "      <td>0.733799</td>\n",
              "      <td>2.150607</td>\n",
              "    </tr>\n",
              "    <tr>\n",
              "      <th>4</th>\n",
              "      <td>-1.080872</td>\n",
              "      <td>-1.672857</td>\n",
              "      <td>2.214261</td>\n",
              "      <td>1.662094</td>\n",
              "      <td>-0.998631</td>\n",
              "      <td>-0.239674</td>\n",
              "      <td>0.733799</td>\n",
              "      <td>2.150607</td>\n",
              "    </tr>\n",
              "  </tbody>\n",
              "</table>\n",
              "</div>"
            ],
            "text/plain": [
              "        age  Duration  ...  Factor_num  Invest_Monitor_num\n",
              "0  1.763528 -0.792406  ...    0.733799            2.150607\n",
              "1 -1.365312  1.848947  ...    0.733799           -0.164363\n",
              "2  0.625768  0.968496  ...    0.733799            2.150607\n",
              "3 -1.649752 -1.672857  ...    0.733799            2.150607\n",
              "4 -1.080872 -1.672857  ...    0.733799            2.150607\n",
              "\n",
              "[5 rows x 8 columns]"
            ]
          },
          "metadata": {},
          "execution_count": 69
        }
      ]
    },
    {
      "cell_type": "markdown",
      "metadata": {
        "id": "Xs8S4f-8Bmtr"
      },
      "source": [
        "- **training set(모델 학습) / test set(모델 예측 성능 검증) 나누기**"
      ]
    },
    {
      "cell_type": "code",
      "metadata": {
        "id": "Ic6YxCv0B71N"
      },
      "source": [
        "### features for linear regression model"
      ],
      "execution_count": 70,
      "outputs": []
    },
    {
      "cell_type": "code",
      "metadata": {
        "id": "OIpY7jfgIJoJ"
      },
      "source": [
        "from sklearn.model_selection import train_test_split\n",
        "\n",
        "# split dataset into training & test\n",
        "X = df2[scale_columns]\n",
        "y = df2['Expect']\n",
        "X_train, X_test, y_train, y_test = train_test_split(X, y, test_size=0.2, random_state=1)"
      ],
      "execution_count": 71,
      "outputs": []
    },
    {
      "cell_type": "code",
      "metadata": {
        "id": "Vp1y5g-tIdcL",
        "colab": {
          "base_uri": "https://localhost:8080/"
        },
        "outputId": "620906ea-d5a7-429b-cbf6-7ade5b098477"
      },
      "source": [
        "X_train.shape, y_train.shape"
      ],
      "execution_count": 72,
      "outputs": [
        {
          "output_type": "execute_result",
          "data": {
            "text/plain": [
              "((32, 8), (32,))"
            ]
          },
          "metadata": {},
          "execution_count": 72
        }
      ]
    },
    {
      "cell_type": "code",
      "metadata": {
        "id": "qlESDO6zIjAX",
        "colab": {
          "base_uri": "https://localhost:8080/"
        },
        "outputId": "731c202c-ff78-4aae-bc7a-5cdd71d9a2e4"
      },
      "source": [
        "X_test.shape, y_test.shape"
      ],
      "execution_count": 73,
      "outputs": [
        {
          "output_type": "execute_result",
          "data": {
            "text/plain": [
              "((8, 8), (8,))"
            ]
          },
          "metadata": {},
          "execution_count": 73
        }
      ]
    },
    {
      "cell_type": "code",
      "metadata": {
        "id": "hEb8C78AImaR",
        "colab": {
          "base_uri": "https://localhost:8080/"
        },
        "outputId": "ebb4a2bf-7fb0-4375-b721-35fb6877d752"
      },
      "source": [
        "y_train\n",
        "### Expect 값을 의미"
      ],
      "execution_count": 74,
      "outputs": [
        {
          "output_type": "execute_result",
          "data": {
            "text/plain": [
              "19    30\n",
              "26    30\n",
              "32    40\n",
              "17    20\n",
              "30    10\n",
              "36    20\n",
              "33    20\n",
              "28    20\n",
              "4     20\n",
              "14    20\n",
              "10    30\n",
              "35    30\n",
              "23    30\n",
              "24    40\n",
              "34    20\n",
              "20    30\n",
              "18    20\n",
              "25    30\n",
              "6     30\n",
              "13    20\n",
              "7     30\n",
              "38    20\n",
              "1     40\n",
              "16    20\n",
              "0     20\n",
              "15    20\n",
              "5     20\n",
              "11    20\n",
              "9     40\n",
              "8     20\n",
              "12    20\n",
              "37    40\n",
              "Name: Expect, dtype: int64"
            ]
          },
          "metadata": {},
          "execution_count": 74
        }
      ]
    },
    {
      "cell_type": "code",
      "metadata": {
        "id": "ErnwRamGIuDX",
        "colab": {
          "base_uri": "https://localhost:8080/",
          "height": 1000
        },
        "outputId": "815c50ad-4f0b-4528-ad5d-ce457237c8df"
      },
      "source": [
        "X_train"
      ],
      "execution_count": 75,
      "outputs": [
        {
          "output_type": "execute_result",
          "data": {
            "text/html": [
              "<div>\n",
              "<style scoped>\n",
              "    .dataframe tbody tr th:only-of-type {\n",
              "        vertical-align: middle;\n",
              "    }\n",
              "\n",
              "    .dataframe tbody tr th {\n",
              "        vertical-align: top;\n",
              "    }\n",
              "\n",
              "    .dataframe thead th {\n",
              "        text-align: right;\n",
              "    }\n",
              "</style>\n",
              "<table border=\"1\" class=\"dataframe\">\n",
              "  <thead>\n",
              "    <tr style=\"text-align: right;\">\n",
              "      <th></th>\n",
              "      <th>age</th>\n",
              "      <th>Duration</th>\n",
              "      <th>Equity_Market</th>\n",
              "      <th>Debentures</th>\n",
              "      <th>Government_Bonds</th>\n",
              "      <th>Fixed_Deposits</th>\n",
              "      <th>Factor_num</th>\n",
              "      <th>Invest_Monitor_num</th>\n",
              "    </tr>\n",
              "  </thead>\n",
              "  <tbody>\n",
              "    <tr>\n",
              "      <th>19</th>\n",
              "      <td>-0.511992</td>\n",
              "      <td>0.968496</td>\n",
              "      <td>-0.469692</td>\n",
              "      <td>-0.151099</td>\n",
              "      <td>-0.258904</td>\n",
              "      <td>1.452145</td>\n",
              "      <td>-1.362770</td>\n",
              "      <td>-0.534758</td>\n",
              "    </tr>\n",
              "    <tr>\n",
              "      <th>26</th>\n",
              "      <td>-0.511992</td>\n",
              "      <td>0.968496</td>\n",
              "      <td>-0.469692</td>\n",
              "      <td>-0.151099</td>\n",
              "      <td>-0.258904</td>\n",
              "      <td>1.452145</td>\n",
              "      <td>0.733799</td>\n",
              "      <td>-0.534758</td>\n",
              "    </tr>\n",
              "    <tr>\n",
              "      <th>32</th>\n",
              "      <td>-0.227552</td>\n",
              "      <td>0.968496</td>\n",
              "      <td>-0.469692</td>\n",
              "      <td>-0.755497</td>\n",
              "      <td>-0.258904</td>\n",
              "      <td>1.452145</td>\n",
              "      <td>0.733799</td>\n",
              "      <td>-0.534758</td>\n",
              "    </tr>\n",
              "    <tr>\n",
              "      <th>17</th>\n",
              "      <td>-0.227552</td>\n",
              "      <td>-0.792406</td>\n",
              "      <td>1.319610</td>\n",
              "      <td>-0.755497</td>\n",
              "      <td>0.480822</td>\n",
              "      <td>-0.803614</td>\n",
              "      <td>0.733799</td>\n",
              "      <td>-0.534758</td>\n",
              "    </tr>\n",
              "    <tr>\n",
              "      <th>30</th>\n",
              "      <td>-0.227552</td>\n",
              "      <td>-0.792406</td>\n",
              "      <td>-1.364343</td>\n",
              "      <td>2.870890</td>\n",
              "      <td>1.960276</td>\n",
              "      <td>-1.931494</td>\n",
              "      <td>0.733799</td>\n",
              "      <td>2.150607</td>\n",
              "    </tr>\n",
              "    <tr>\n",
              "      <th>36</th>\n",
              "      <td>0.625768</td>\n",
              "      <td>-0.792406</td>\n",
              "      <td>-0.469692</td>\n",
              "      <td>-0.755497</td>\n",
              "      <td>-0.258904</td>\n",
              "      <td>1.452145</td>\n",
              "      <td>0.733799</td>\n",
              "      <td>-0.534758</td>\n",
              "    </tr>\n",
              "    <tr>\n",
              "      <th>33</th>\n",
              "      <td>-0.511992</td>\n",
              "      <td>-0.792406</td>\n",
              "      <td>0.424959</td>\n",
              "      <td>-0.151099</td>\n",
              "      <td>0.480822</td>\n",
              "      <td>1.452145</td>\n",
              "      <td>0.733799</td>\n",
              "      <td>-0.534758</td>\n",
              "    </tr>\n",
              "    <tr>\n",
              "      <th>28</th>\n",
              "      <td>0.341328</td>\n",
              "      <td>-0.792406</td>\n",
              "      <td>0.424959</td>\n",
              "      <td>-0.151099</td>\n",
              "      <td>-0.258904</td>\n",
              "      <td>1.452145</td>\n",
              "      <td>0.733799</td>\n",
              "      <td>-0.534758</td>\n",
              "    </tr>\n",
              "    <tr>\n",
              "      <th>4</th>\n",
              "      <td>-1.080872</td>\n",
              "      <td>-1.672857</td>\n",
              "      <td>2.214261</td>\n",
              "      <td>1.662094</td>\n",
              "      <td>-0.998631</td>\n",
              "      <td>-0.239674</td>\n",
              "      <td>0.733799</td>\n",
              "      <td>2.150607</td>\n",
              "    </tr>\n",
              "    <tr>\n",
              "      <th>14</th>\n",
              "      <td>-0.796432</td>\n",
              "      <td>-0.792406</td>\n",
              "      <td>0.424959</td>\n",
              "      <td>-0.755497</td>\n",
              "      <td>-0.258904</td>\n",
              "      <td>-0.239674</td>\n",
              "      <td>0.733799</td>\n",
              "      <td>-0.534758</td>\n",
              "    </tr>\n",
              "    <tr>\n",
              "      <th>10</th>\n",
              "      <td>2.047968</td>\n",
              "      <td>0.968496</td>\n",
              "      <td>-0.469692</td>\n",
              "      <td>-0.755497</td>\n",
              "      <td>-0.258904</td>\n",
              "      <td>0.324265</td>\n",
              "      <td>-1.362770</td>\n",
              "      <td>-0.534758</td>\n",
              "    </tr>\n",
              "    <tr>\n",
              "      <th>35</th>\n",
              "      <td>0.625768</td>\n",
              "      <td>0.968496</td>\n",
              "      <td>-0.469692</td>\n",
              "      <td>-0.151099</td>\n",
              "      <td>-0.258904</td>\n",
              "      <td>0.324265</td>\n",
              "      <td>-1.362770</td>\n",
              "      <td>-0.534758</td>\n",
              "    </tr>\n",
              "    <tr>\n",
              "      <th>23</th>\n",
              "      <td>-0.796432</td>\n",
              "      <td>0.968496</td>\n",
              "      <td>-0.469692</td>\n",
              "      <td>-0.151099</td>\n",
              "      <td>-0.258904</td>\n",
              "      <td>0.324265</td>\n",
              "      <td>-1.362770</td>\n",
              "      <td>-0.164363</td>\n",
              "    </tr>\n",
              "    <tr>\n",
              "      <th>24</th>\n",
              "      <td>-0.511992</td>\n",
              "      <td>0.968496</td>\n",
              "      <td>0.424959</td>\n",
              "      <td>-0.755497</td>\n",
              "      <td>-0.258904</td>\n",
              "      <td>-0.239674</td>\n",
              "      <td>0.733799</td>\n",
              "      <td>-0.534758</td>\n",
              "    </tr>\n",
              "    <tr>\n",
              "      <th>34</th>\n",
              "      <td>-0.227552</td>\n",
              "      <td>-0.792406</td>\n",
              "      <td>0.424959</td>\n",
              "      <td>-0.151099</td>\n",
              "      <td>-0.258904</td>\n",
              "      <td>-0.239674</td>\n",
              "      <td>0.733799</td>\n",
              "      <td>-0.164363</td>\n",
              "    </tr>\n",
              "    <tr>\n",
              "      <th>20</th>\n",
              "      <td>0.341328</td>\n",
              "      <td>0.968496</td>\n",
              "      <td>-0.469692</td>\n",
              "      <td>-0.755497</td>\n",
              "      <td>-0.258904</td>\n",
              "      <td>0.324265</td>\n",
              "      <td>0.733799</td>\n",
              "      <td>-0.164363</td>\n",
              "    </tr>\n",
              "    <tr>\n",
              "      <th>18</th>\n",
              "      <td>0.341328</td>\n",
              "      <td>-0.792406</td>\n",
              "      <td>1.319610</td>\n",
              "      <td>-0.755497</td>\n",
              "      <td>0.480822</td>\n",
              "      <td>-0.803614</td>\n",
              "      <td>-1.362770</td>\n",
              "      <td>-0.534758</td>\n",
              "    </tr>\n",
              "    <tr>\n",
              "      <th>25</th>\n",
              "      <td>1.194648</td>\n",
              "      <td>0.968496</td>\n",
              "      <td>-0.469692</td>\n",
              "      <td>-0.755497</td>\n",
              "      <td>-0.258904</td>\n",
              "      <td>1.452145</td>\n",
              "      <td>-1.362770</td>\n",
              "      <td>-0.534758</td>\n",
              "    </tr>\n",
              "    <tr>\n",
              "      <th>6</th>\n",
              "      <td>-0.227552</td>\n",
              "      <td>0.968496</td>\n",
              "      <td>-2.258993</td>\n",
              "      <td>1.057696</td>\n",
              "      <td>1.960276</td>\n",
              "      <td>-0.803614</td>\n",
              "      <td>0.733799</td>\n",
              "      <td>-0.534758</td>\n",
              "    </tr>\n",
              "    <tr>\n",
              "      <th>13</th>\n",
              "      <td>0.056888</td>\n",
              "      <td>-0.792406</td>\n",
              "      <td>0.424959</td>\n",
              "      <td>-0.755497</td>\n",
              "      <td>0.480822</td>\n",
              "      <td>-0.803614</td>\n",
              "      <td>0.733799</td>\n",
              "      <td>-0.534758</td>\n",
              "    </tr>\n",
              "    <tr>\n",
              "      <th>7</th>\n",
              "      <td>-1.934192</td>\n",
              "      <td>0.968496</td>\n",
              "      <td>0.424959</td>\n",
              "      <td>-0.755497</td>\n",
              "      <td>0.480822</td>\n",
              "      <td>-1.367554</td>\n",
              "      <td>-1.362770</td>\n",
              "      <td>-0.534758</td>\n",
              "    </tr>\n",
              "    <tr>\n",
              "      <th>38</th>\n",
              "      <td>0.910208</td>\n",
              "      <td>-0.792406</td>\n",
              "      <td>-0.469692</td>\n",
              "      <td>-0.755497</td>\n",
              "      <td>-0.258904</td>\n",
              "      <td>0.324265</td>\n",
              "      <td>-1.362770</td>\n",
              "      <td>-0.164363</td>\n",
              "    </tr>\n",
              "    <tr>\n",
              "      <th>1</th>\n",
              "      <td>-1.365312</td>\n",
              "      <td>1.848947</td>\n",
              "      <td>0.424959</td>\n",
              "      <td>2.266492</td>\n",
              "      <td>2.700003</td>\n",
              "      <td>-0.803614</td>\n",
              "      <td>0.733799</td>\n",
              "      <td>-0.164363</td>\n",
              "    </tr>\n",
              "    <tr>\n",
              "      <th>16</th>\n",
              "      <td>0.056888</td>\n",
              "      <td>-0.792406</td>\n",
              "      <td>1.319610</td>\n",
              "      <td>-0.755497</td>\n",
              "      <td>-0.258904</td>\n",
              "      <td>-0.239674</td>\n",
              "      <td>-1.362770</td>\n",
              "      <td>-0.534758</td>\n",
              "    </tr>\n",
              "    <tr>\n",
              "      <th>0</th>\n",
              "      <td>1.763528</td>\n",
              "      <td>-0.792406</td>\n",
              "      <td>1.319610</td>\n",
              "      <td>0.453298</td>\n",
              "      <td>1.220549</td>\n",
              "      <td>-1.931494</td>\n",
              "      <td>0.733799</td>\n",
              "      <td>2.150607</td>\n",
              "    </tr>\n",
              "    <tr>\n",
              "      <th>15</th>\n",
              "      <td>-0.227552</td>\n",
              "      <td>-0.792406</td>\n",
              "      <td>0.424959</td>\n",
              "      <td>-0.755497</td>\n",
              "      <td>-0.258904</td>\n",
              "      <td>-0.239674</td>\n",
              "      <td>0.733799</td>\n",
              "      <td>-0.534758</td>\n",
              "    </tr>\n",
              "    <tr>\n",
              "      <th>5</th>\n",
              "      <td>-1.080872</td>\n",
              "      <td>-0.792406</td>\n",
              "      <td>-1.364343</td>\n",
              "      <td>1.057696</td>\n",
              "      <td>-0.998631</td>\n",
              "      <td>0.324265</td>\n",
              "      <td>-1.362770</td>\n",
              "      <td>2.150607</td>\n",
              "    </tr>\n",
              "    <tr>\n",
              "      <th>11</th>\n",
              "      <td>0.341328</td>\n",
              "      <td>-0.792406</td>\n",
              "      <td>-1.364343</td>\n",
              "      <td>-0.755497</td>\n",
              "      <td>-0.998631</td>\n",
              "      <td>0.324265</td>\n",
              "      <td>-1.362770</td>\n",
              "      <td>-0.534758</td>\n",
              "    </tr>\n",
              "    <tr>\n",
              "      <th>9</th>\n",
              "      <td>0.910208</td>\n",
              "      <td>0.968496</td>\n",
              "      <td>0.424959</td>\n",
              "      <td>-0.755497</td>\n",
              "      <td>0.480822</td>\n",
              "      <td>-0.803614</td>\n",
              "      <td>0.733799</td>\n",
              "      <td>-0.534758</td>\n",
              "    </tr>\n",
              "    <tr>\n",
              "      <th>8</th>\n",
              "      <td>2.047968</td>\n",
              "      <td>-0.792406</td>\n",
              "      <td>-0.469692</td>\n",
              "      <td>-0.755497</td>\n",
              "      <td>-0.258904</td>\n",
              "      <td>0.324265</td>\n",
              "      <td>0.733799</td>\n",
              "      <td>-0.164363</td>\n",
              "    </tr>\n",
              "    <tr>\n",
              "      <th>12</th>\n",
              "      <td>-1.934192</td>\n",
              "      <td>-0.792406</td>\n",
              "      <td>1.319610</td>\n",
              "      <td>1.662094</td>\n",
              "      <td>0.480822</td>\n",
              "      <td>-0.803614</td>\n",
              "      <td>0.733799</td>\n",
              "      <td>-0.164363</td>\n",
              "    </tr>\n",
              "    <tr>\n",
              "      <th>37</th>\n",
              "      <td>-0.796432</td>\n",
              "      <td>0.968496</td>\n",
              "      <td>-0.469692</td>\n",
              "      <td>-0.755497</td>\n",
              "      <td>-0.998631</td>\n",
              "      <td>1.452145</td>\n",
              "      <td>-1.362770</td>\n",
              "      <td>-0.534758</td>\n",
              "    </tr>\n",
              "  </tbody>\n",
              "</table>\n",
              "</div>"
            ],
            "text/plain": [
              "         age  Duration  ...  Factor_num  Invest_Monitor_num\n",
              "19 -0.511992  0.968496  ...   -1.362770           -0.534758\n",
              "26 -0.511992  0.968496  ...    0.733799           -0.534758\n",
              "32 -0.227552  0.968496  ...    0.733799           -0.534758\n",
              "17 -0.227552 -0.792406  ...    0.733799           -0.534758\n",
              "30 -0.227552 -0.792406  ...    0.733799            2.150607\n",
              "36  0.625768 -0.792406  ...    0.733799           -0.534758\n",
              "33 -0.511992 -0.792406  ...    0.733799           -0.534758\n",
              "28  0.341328 -0.792406  ...    0.733799           -0.534758\n",
              "4  -1.080872 -1.672857  ...    0.733799            2.150607\n",
              "14 -0.796432 -0.792406  ...    0.733799           -0.534758\n",
              "10  2.047968  0.968496  ...   -1.362770           -0.534758\n",
              "35  0.625768  0.968496  ...   -1.362770           -0.534758\n",
              "23 -0.796432  0.968496  ...   -1.362770           -0.164363\n",
              "24 -0.511992  0.968496  ...    0.733799           -0.534758\n",
              "34 -0.227552 -0.792406  ...    0.733799           -0.164363\n",
              "20  0.341328  0.968496  ...    0.733799           -0.164363\n",
              "18  0.341328 -0.792406  ...   -1.362770           -0.534758\n",
              "25  1.194648  0.968496  ...   -1.362770           -0.534758\n",
              "6  -0.227552  0.968496  ...    0.733799           -0.534758\n",
              "13  0.056888 -0.792406  ...    0.733799           -0.534758\n",
              "7  -1.934192  0.968496  ...   -1.362770           -0.534758\n",
              "38  0.910208 -0.792406  ...   -1.362770           -0.164363\n",
              "1  -1.365312  1.848947  ...    0.733799           -0.164363\n",
              "16  0.056888 -0.792406  ...   -1.362770           -0.534758\n",
              "0   1.763528 -0.792406  ...    0.733799            2.150607\n",
              "15 -0.227552 -0.792406  ...    0.733799           -0.534758\n",
              "5  -1.080872 -0.792406  ...   -1.362770            2.150607\n",
              "11  0.341328 -0.792406  ...   -1.362770           -0.534758\n",
              "9   0.910208  0.968496  ...    0.733799           -0.534758\n",
              "8   2.047968 -0.792406  ...    0.733799           -0.164363\n",
              "12 -1.934192 -0.792406  ...    0.733799           -0.164363\n",
              "37 -0.796432  0.968496  ...   -1.362770           -0.534758\n",
              "\n",
              "[32 rows x 8 columns]"
            ]
          },
          "metadata": {},
          "execution_count": 75
        }
      ]
    },
    {
      "cell_type": "markdown",
      "metadata": {
        "id": "NhXgr8WoI2VA"
      },
      "source": [
        "- **다중공산성**\n",
        "\n",
        "    - 회귀 분석에서 하나의 feature(예측 변수)가 다른 feature와의 상관 관계가 높으면 (즉, 다중공선성이 존재하면), 회귀 분석 시 부정적인 영향을 미칠 수 있기 때문에, 모델링 하기 전에 먼저 다중공선성의 존재 여부를 확인해야합니다.\n",
        "    - 보통 다중공선성을 판단할 때 VIF값을 확인합니다. 일반적으로, VIF > 10인 feature들은 다른 변수와의 상관관계가 높아, 다중공선성이 존재하는 것으로 판단합니다. 즉, VIF > 10인 feature들은 설명변수에서 제거하는 것이 좋을 수도 있습니다."
      ]
    },
    {
      "cell_type": "code",
      "metadata": {
        "id": "eRn5vEiDJH2r",
        "colab": {
          "base_uri": "https://localhost:8080/",
          "height": 352
        },
        "outputId": "26e2f371-8b69-4811-9c1d-b3c2736d45bd"
      },
      "source": [
        "from statsmodels.stats.outliers_influence import variance_inflation_factor\n",
        "\n",
        "vif = pd.DataFrame()\n",
        "vif['features'] = X_train.columns\n",
        "vif[\"VIF Factor\"] = [variance_inflation_factor(X_train.values, i) for i in range(X_train.shape[1])]\n",
        "vif.round(1) \n",
        "### 소수점 첫째자리까지 표시. 즉, 소수점 둘째짜리에서 반올림"
      ],
      "execution_count": 76,
      "outputs": [
        {
          "output_type": "stream",
          "name": "stderr",
          "text": [
            "/usr/local/lib/python3.7/dist-packages/statsmodels/tools/_testing.py:19: FutureWarning: pandas.util.testing is deprecated. Use the functions in the public API at pandas.testing instead.\n",
            "  import pandas.util.testing as tm\n"
          ]
        },
        {
          "output_type": "execute_result",
          "data": {
            "text/html": [
              "<div>\n",
              "<style scoped>\n",
              "    .dataframe tbody tr th:only-of-type {\n",
              "        vertical-align: middle;\n",
              "    }\n",
              "\n",
              "    .dataframe tbody tr th {\n",
              "        vertical-align: top;\n",
              "    }\n",
              "\n",
              "    .dataframe thead th {\n",
              "        text-align: right;\n",
              "    }\n",
              "</style>\n",
              "<table border=\"1\" class=\"dataframe\">\n",
              "  <thead>\n",
              "    <tr style=\"text-align: right;\">\n",
              "      <th></th>\n",
              "      <th>features</th>\n",
              "      <th>VIF Factor</th>\n",
              "    </tr>\n",
              "  </thead>\n",
              "  <tbody>\n",
              "    <tr>\n",
              "      <th>0</th>\n",
              "      <td>age</td>\n",
              "      <td>1.7</td>\n",
              "    </tr>\n",
              "    <tr>\n",
              "      <th>1</th>\n",
              "      <td>Duration</td>\n",
              "      <td>1.6</td>\n",
              "    </tr>\n",
              "    <tr>\n",
              "      <th>2</th>\n",
              "      <td>Equity_Market</td>\n",
              "      <td>1.4</td>\n",
              "    </tr>\n",
              "    <tr>\n",
              "      <th>3</th>\n",
              "      <td>Debentures</td>\n",
              "      <td>5.2</td>\n",
              "    </tr>\n",
              "    <tr>\n",
              "      <th>4</th>\n",
              "      <td>Government_Bonds</td>\n",
              "      <td>3.9</td>\n",
              "    </tr>\n",
              "    <tr>\n",
              "      <th>5</th>\n",
              "      <td>Fixed_Deposits</td>\n",
              "      <td>2.6</td>\n",
              "    </tr>\n",
              "    <tr>\n",
              "      <th>6</th>\n",
              "      <td>Factor_num</td>\n",
              "      <td>1.4</td>\n",
              "    </tr>\n",
              "    <tr>\n",
              "      <th>7</th>\n",
              "      <td>Invest_Monitor_num</td>\n",
              "      <td>3.8</td>\n",
              "    </tr>\n",
              "  </tbody>\n",
              "</table>\n",
              "</div>"
            ],
            "text/plain": [
              "             features  VIF Factor\n",
              "0                 age         1.7\n",
              "1            Duration         1.6\n",
              "2       Equity_Market         1.4\n",
              "3          Debentures         5.2\n",
              "4    Government_Bonds         3.9\n",
              "5      Fixed_Deposits         2.6\n",
              "6          Factor_num         1.4\n",
              "7  Invest_Monitor_num         3.8"
            ]
          },
          "metadata": {},
          "execution_count": 76
        }
      ]
    },
    {
      "cell_type": "code",
      "metadata": {
        "id": "TvjOWaECJSr4"
      },
      "source": [
        "### 해설) VIF값을 확인해보면, 모든 변수의 VIF값이 다 10 이하다.\n",
        "### 따라서 다중공선성 문제가 존재하지 않아 모든 feature을 활용하여 회귀 모델링 진행"
      ],
      "execution_count": 77,
      "outputs": []
    },
    {
      "cell_type": "markdown",
      "metadata": {
        "id": "VgRKTQesJhvi"
      },
      "source": [
        "#### 3-2 회귀 모델링\n",
        "- 먼저 Training set에서 선형 회귀 예측 모델을 학습\n",
        "- 그 다음 도출된 모델을 Test set에 적용해 기대 수익률(“Expect”)을 예측\n",
        "- 이 결과는 실제 “Expect” 값과 비교하여 모델의 예측 성능을 평가하는 데 활용\n"
      ]
    },
    {
      "cell_type": "code",
      "metadata": {
        "id": "d5PuZwGHJuwF"
      },
      "source": [
        "from sklearn import linear_model\n",
        "\n",
        "# fit regression model in training set\n",
        "lr = linear_model.LinearRegression()\n",
        "model = lr.fit(X_train, y_train)\n",
        "\n",
        "# predict in test set\n",
        "pred_test = lr.predict(X_test)"
      ],
      "execution_count": 78,
      "outputs": []
    },
    {
      "cell_type": "markdown",
      "metadata": {
        "id": "h625AZ6nJ6CO"
      },
      "source": [
        "#### 3-3 모델 해석하기\n",
        "- 각 feature, 설명변수, x, 컬럼에 대한 회귀계수를 확인"
      ]
    },
    {
      "cell_type": "code",
      "metadata": {
        "id": "qWGy83BjJ9zu",
        "colab": {
          "base_uri": "https://localhost:8080/"
        },
        "outputId": "54b43db0-40ad-47c5-f421-84f8f0141f6f"
      },
      "source": [
        "### print coef : 계수 출력\n",
        "print(lr.coef_)"
      ],
      "execution_count": 79,
      "outputs": [
        {
          "output_type": "stream",
          "name": "stdout",
          "text": [
            "[-0.35516714  8.63624893  1.54143914 -0.71004398 -1.89350977  0.07600075\n",
            "  1.27899214  0.56815718]\n"
          ]
        }
      ]
    },
    {
      "cell_type": "code",
      "metadata": {
        "id": "4W5pBz63KK9V",
        "colab": {
          "base_uri": "https://localhost:8080/",
          "height": 297
        },
        "outputId": "040d6fa7-419f-43fa-9c8e-0cbb95b526f3"
      },
      "source": [
        "### \"feature - coefficients\" DataFrame 만들기\n",
        "### zip : 리스트 2개를 하나로 묶음.(결과는 튜플)\n",
        "\n",
        "coefs = pd.DataFrame(zip(df2[scale_columns].columns, lr.coef_), columns = ['feature', 'coefficients'])\n",
        "coefs"
      ],
      "execution_count": 80,
      "outputs": [
        {
          "output_type": "execute_result",
          "data": {
            "text/html": [
              "<div>\n",
              "<style scoped>\n",
              "    .dataframe tbody tr th:only-of-type {\n",
              "        vertical-align: middle;\n",
              "    }\n",
              "\n",
              "    .dataframe tbody tr th {\n",
              "        vertical-align: top;\n",
              "    }\n",
              "\n",
              "    .dataframe thead th {\n",
              "        text-align: right;\n",
              "    }\n",
              "</style>\n",
              "<table border=\"1\" class=\"dataframe\">\n",
              "  <thead>\n",
              "    <tr style=\"text-align: right;\">\n",
              "      <th></th>\n",
              "      <th>feature</th>\n",
              "      <th>coefficients</th>\n",
              "    </tr>\n",
              "  </thead>\n",
              "  <tbody>\n",
              "    <tr>\n",
              "      <th>0</th>\n",
              "      <td>age</td>\n",
              "      <td>-0.355167</td>\n",
              "    </tr>\n",
              "    <tr>\n",
              "      <th>1</th>\n",
              "      <td>Duration</td>\n",
              "      <td>8.636249</td>\n",
              "    </tr>\n",
              "    <tr>\n",
              "      <th>2</th>\n",
              "      <td>Equity_Market</td>\n",
              "      <td>1.541439</td>\n",
              "    </tr>\n",
              "    <tr>\n",
              "      <th>3</th>\n",
              "      <td>Debentures</td>\n",
              "      <td>-0.710044</td>\n",
              "    </tr>\n",
              "    <tr>\n",
              "      <th>4</th>\n",
              "      <td>Government_Bonds</td>\n",
              "      <td>-1.893510</td>\n",
              "    </tr>\n",
              "    <tr>\n",
              "      <th>5</th>\n",
              "      <td>Fixed_Deposits</td>\n",
              "      <td>0.076001</td>\n",
              "    </tr>\n",
              "    <tr>\n",
              "      <th>6</th>\n",
              "      <td>Factor_num</td>\n",
              "      <td>1.278992</td>\n",
              "    </tr>\n",
              "    <tr>\n",
              "      <th>7</th>\n",
              "      <td>Invest_Monitor_num</td>\n",
              "      <td>0.568157</td>\n",
              "    </tr>\n",
              "  </tbody>\n",
              "</table>\n",
              "</div>"
            ],
            "text/plain": [
              "              feature  coefficients\n",
              "0                 age     -0.355167\n",
              "1            Duration      8.636249\n",
              "2       Equity_Market      1.541439\n",
              "3          Debentures     -0.710044\n",
              "4    Government_Bonds     -1.893510\n",
              "5      Fixed_Deposits      0.076001\n",
              "6          Factor_num      1.278992\n",
              "7  Invest_Monitor_num      0.568157"
            ]
          },
          "metadata": {},
          "execution_count": 80
        }
      ]
    },
    {
      "cell_type": "code",
      "metadata": {
        "id": "0XX7vOsxKv5A",
        "colab": {
          "base_uri": "https://localhost:8080/",
          "height": 297
        },
        "outputId": "b69a35cf-f022-4965-d781-8106124d0870"
      },
      "source": [
        "### 크기 순서대로 나열(내림차순, 절대값 기준)\n",
        "### 절대값 기준 함수: coefficients.abs().sort_values \n",
        "\n",
        "coefs_new = coefs.reindex(coefs.coefficients.abs().sort_values(ascending=False).index)\n",
        "coefs_new"
      ],
      "execution_count": 81,
      "outputs": [
        {
          "output_type": "execute_result",
          "data": {
            "text/html": [
              "<div>\n",
              "<style scoped>\n",
              "    .dataframe tbody tr th:only-of-type {\n",
              "        vertical-align: middle;\n",
              "    }\n",
              "\n",
              "    .dataframe tbody tr th {\n",
              "        vertical-align: top;\n",
              "    }\n",
              "\n",
              "    .dataframe thead th {\n",
              "        text-align: right;\n",
              "    }\n",
              "</style>\n",
              "<table border=\"1\" class=\"dataframe\">\n",
              "  <thead>\n",
              "    <tr style=\"text-align: right;\">\n",
              "      <th></th>\n",
              "      <th>feature</th>\n",
              "      <th>coefficients</th>\n",
              "    </tr>\n",
              "  </thead>\n",
              "  <tbody>\n",
              "    <tr>\n",
              "      <th>1</th>\n",
              "      <td>Duration</td>\n",
              "      <td>8.636249</td>\n",
              "    </tr>\n",
              "    <tr>\n",
              "      <th>4</th>\n",
              "      <td>Government_Bonds</td>\n",
              "      <td>-1.893510</td>\n",
              "    </tr>\n",
              "    <tr>\n",
              "      <th>2</th>\n",
              "      <td>Equity_Market</td>\n",
              "      <td>1.541439</td>\n",
              "    </tr>\n",
              "    <tr>\n",
              "      <th>6</th>\n",
              "      <td>Factor_num</td>\n",
              "      <td>1.278992</td>\n",
              "    </tr>\n",
              "    <tr>\n",
              "      <th>3</th>\n",
              "      <td>Debentures</td>\n",
              "      <td>-0.710044</td>\n",
              "    </tr>\n",
              "    <tr>\n",
              "      <th>7</th>\n",
              "      <td>Invest_Monitor_num</td>\n",
              "      <td>0.568157</td>\n",
              "    </tr>\n",
              "    <tr>\n",
              "      <th>0</th>\n",
              "      <td>age</td>\n",
              "      <td>-0.355167</td>\n",
              "    </tr>\n",
              "    <tr>\n",
              "      <th>5</th>\n",
              "      <td>Fixed_Deposits</td>\n",
              "      <td>0.076001</td>\n",
              "    </tr>\n",
              "  </tbody>\n",
              "</table>\n",
              "</div>"
            ],
            "text/plain": [
              "              feature  coefficients\n",
              "1            Duration      8.636249\n",
              "4    Government_Bonds     -1.893510\n",
              "2       Equity_Market      1.541439\n",
              "6          Factor_num      1.278992\n",
              "3          Debentures     -0.710044\n",
              "7  Invest_Monitor_num      0.568157\n",
              "0                 age     -0.355167\n",
              "5      Fixed_Deposits      0.076001"
            ]
          },
          "metadata": {},
          "execution_count": 81
        }
      ]
    },
    {
      "cell_type": "code",
      "metadata": {
        "id": "VrnA6LHlK9JS",
        "colab": {
          "base_uri": "https://localhost:8080/",
          "height": 427
        },
        "outputId": "1134c8a0-f4de-418a-cc23-3ae31aa4fe20"
      },
      "source": [
        "### coefficients 를 시각화\n",
        "\n",
        "### figure size\n",
        "plt.figure(figsize = (6, 6))\n",
        "\n",
        "### bar plot : 수평 막대 그래프\n",
        "plt.barh(coefs_new['feature'], coefs_new['coefficients'])\n",
        "plt.title('\"feature - coefficient\" Graph')\n",
        "plt.xlabel('coefficients')\n",
        "plt.ylabel('features')\n",
        "plt.show()"
      ],
      "execution_count": 82,
      "outputs": [
        {
          "output_type": "display_data",
          "data": {
            "image/png": "[encoded data removed]",
            "text/plain": [
              "<Figure size 432x432 with 1 Axes>"
            ]
          },
          "metadata": {}
        }
      ]
    },
    {
      "cell_type": "markdown",
      "metadata": {
        "id": "qjRBkpJjQMv7"
      },
      "source": [
        "- **유의성 검정**\n",
        "\n",
        ": 통계에서 변수가 유의한지 검정\n"
      ]
    },
    {
      "cell_type": "code",
      "metadata": {
        "id": "hTOAacFYQVQD",
        "colab": {
          "base_uri": "https://localhost:8080/",
          "height": 578
        },
        "outputId": "4adfa117-f30c-4d0f-a269-bb995138a88a"
      },
      "source": [
        "import statsmodels.api as sm\n",
        "\n",
        "X_train2 = sm.add_constant(X_train)\n",
        "### 상수항 결합(bias augmentation)작업 : 회귀분석모형 수식을 간단하게 만들기 위해 다음과 같이 상수항을 독립변수 데이터에 추가하는 것\n",
        "### ordinary least square 의 약자로, 거리의 최소값을 기준으로 구하는 함수입니다. \n",
        "\n",
        "model2 = sm.OLS(y_train, X_train2).fit()\n",
        "model2.summary()"
      ],
      "execution_count": 83,
      "outputs": [
        {
          "output_type": "execute_result",
          "data": {
            "text/html": [
              "<table class=\"simpletable\">\n",
              "<caption>OLS Regression Results</caption>\n",
              "<tr>\n",
              "  <th>Dep. Variable:</th>         <td>Expect</td>      <th>  R-squared:         </th> <td>   0.878</td>\n",
              "</tr>\n",
              "<tr>\n",
              "  <th>Model:</th>                   <td>OLS</td>       <th>  Adj. R-squared:    </th> <td>   0.836</td>\n",
              "</tr>\n",
              "<tr>\n",
              "  <th>Method:</th>             <td>Least Squares</td>  <th>  F-statistic:       </th> <td>   20.72</td>\n",
              "</tr>\n",
              "<tr>\n",
              "  <th>Date:</th>             <td>Sun, 10 Oct 2021</td> <th>  Prob (F-statistic):</th> <td>8.77e-09</td>\n",
              "</tr>\n",
              "<tr>\n",
              "  <th>Time:</th>                 <td>18:27:11</td>     <th>  Log-Likelihood:    </th> <td> -77.791</td>\n",
              "</tr>\n",
              "<tr>\n",
              "  <th>No. Observations:</th>      <td>    32</td>      <th>  AIC:               </th> <td>   173.6</td>\n",
              "</tr>\n",
              "<tr>\n",
              "  <th>Df Residuals:</th>          <td>    23</td>      <th>  BIC:               </th> <td>   186.8</td>\n",
              "</tr>\n",
              "<tr>\n",
              "  <th>Df Model:</th>              <td>     8</td>      <th>                     </th>     <td> </td>   \n",
              "</tr>\n",
              "<tr>\n",
              "  <th>Covariance Type:</th>      <td>nonrobust</td>    <th>                     </th>     <td> </td>   \n",
              "</tr>\n",
              "</table>\n",
              "<table class=\"simpletable\">\n",
              "<tr>\n",
              "           <td></td>             <th>coef</th>     <th>std err</th>      <th>t</th>      <th>P>|t|</th>  <th>[0.025</th>    <th>0.975]</th>  \n",
              "</tr>\n",
              "<tr>\n",
              "  <th>const</th>              <td>   25.9611</td> <td>    0.623</td> <td>   41.683</td> <td> 0.000</td> <td>   24.673</td> <td>   27.250</td>\n",
              "</tr>\n",
              "<tr>\n",
              "  <th>age</th>                <td>   -0.3552</td> <td>    0.775</td> <td>   -0.458</td> <td> 0.651</td> <td>   -1.958</td> <td>    1.248</td>\n",
              "</tr>\n",
              "<tr>\n",
              "  <th>Duration</th>           <td>    8.6362</td> <td>    0.786</td> <td>   10.987</td> <td> 0.000</td> <td>    7.010</td> <td>   10.262</td>\n",
              "</tr>\n",
              "<tr>\n",
              "  <th>Equity_Market</th>      <td>    1.5414</td> <td>    0.728</td> <td>    2.117</td> <td> 0.045</td> <td>    0.035</td> <td>    3.048</td>\n",
              "</tr>\n",
              "<tr>\n",
              "  <th>Debentures</th>         <td>   -0.7100</td> <td>    1.359</td> <td>   -0.523</td> <td> 0.606</td> <td>   -3.520</td> <td>    2.100</td>\n",
              "</tr>\n",
              "<tr>\n",
              "  <th>Government_Bonds</th>   <td>   -1.8935</td> <td>    1.427</td> <td>   -1.327</td> <td> 0.198</td> <td>   -4.846</td> <td>    1.059</td>\n",
              "</tr>\n",
              "<tr>\n",
              "  <th>Fixed_Deposits</th>     <td>    0.0760</td> <td>    0.955</td> <td>    0.080</td> <td> 0.937</td> <td>   -1.900</td> <td>    2.052</td>\n",
              "</tr>\n",
              "<tr>\n",
              "  <th>Factor_num</th>         <td>    1.2790</td> <td>    0.666</td> <td>    1.919</td> <td> 0.067</td> <td>   -0.099</td> <td>    2.657</td>\n",
              "</tr>\n",
              "<tr>\n",
              "  <th>Invest_Monitor_num</th> <td>    0.5682</td> <td>    1.290</td> <td>    0.440</td> <td> 0.664</td> <td>   -2.101</td> <td>    3.238</td>\n",
              "</tr>\n",
              "</table>\n",
              "<table class=\"simpletable\">\n",
              "<tr>\n",
              "  <th>Omnibus:</th>       <td> 0.476</td> <th>  Durbin-Watson:     </th> <td>   1.969</td>\n",
              "</tr>\n",
              "<tr>\n",
              "  <th>Prob(Omnibus):</th> <td> 0.788</td> <th>  Jarque-Bera (JB):  </th> <td>   0.612</td>\n",
              "</tr>\n",
              "<tr>\n",
              "  <th>Skew:</th>          <td> 0.171</td> <th>  Prob(JB):          </th> <td>   0.736</td>\n",
              "</tr>\n",
              "<tr>\n",
              "  <th>Kurtosis:</th>      <td> 2.415</td> <th>  Cond. No.          </th> <td>    6.10</td>\n",
              "</tr>\n",
              "</table><br/><br/>Warnings:<br/>[1] Standard Errors assume that the covariance matrix of the errors is correctly specified."
            ],
            "text/plain": [
              "<class 'statsmodels.iolib.summary.Summary'>\n",
              "\"\"\"\n",
              "                            OLS Regression Results                            \n",
              "==============================================================================\n",
              "Dep. Variable:                 Expect   R-squared:                       0.878\n",
              "Model:                            OLS   Adj. R-squared:                  0.836\n",
              "Method:                 Least Squares   F-statistic:                     20.72\n",
              "Date:                Sun, 10 Oct 2021   Prob (F-statistic):           8.77e-09\n",
              "Time:                        18:27:11   Log-Likelihood:                -77.791\n",
              "No. Observations:                  32   AIC:                             173.6\n",
              "Df Residuals:                      23   BIC:                             186.8\n",
              "Df Model:                           8                                         \n",
              "Covariance Type:            nonrobust                                         \n",
              "======================================================================================\n",
              "                         coef    std err          t      P>|t|      [0.025      0.975]\n",
              "--------------------------------------------------------------------------------------\n",
              "const                 25.9611      0.623     41.683      0.000      24.673      27.250\n",
              "age                   -0.3552      0.775     -0.458      0.651      -1.958       1.248\n",
              "Duration               8.6362      0.786     10.987      0.000       7.010      10.262\n",
              "Equity_Market          1.5414      0.728      2.117      0.045       0.035       3.048\n",
              "Debentures            -0.7100      1.359     -0.523      0.606      -3.520       2.100\n",
              "Government_Bonds      -1.8935      1.427     -1.327      0.198      -4.846       1.059\n",
              "Fixed_Deposits         0.0760      0.955      0.080      0.937      -1.900       2.052\n",
              "Factor_num             1.2790      0.666      1.919      0.067      -0.099       2.657\n",
              "Invest_Monitor_num     0.5682      1.290      0.440      0.664      -2.101       3.238\n",
              "==============================================================================\n",
              "Omnibus:                        0.476   Durbin-Watson:                   1.969\n",
              "Prob(Omnibus):                  0.788   Jarque-Bera (JB):                0.612\n",
              "Skew:                           0.171   Prob(JB):                        0.736\n",
              "Kurtosis:                       2.415   Cond. No.                         6.10\n",
              "==============================================================================\n",
              "\n",
              "Warnings:\n",
              "[1] Standard Errors assume that the covariance matrix of the errors is correctly specified.\n",
              "\"\"\""
            ]
          },
          "metadata": {},
          "execution_count": 83
        }
      ]
    },
    {
      "cell_type": "code",
      "metadata": {
        "id": "34OdmEZZQupj"
      },
      "source": [
        "### 해설) \n",
        "### coef : 계수\n",
        "### P>|t| : p-value를 의미. 0.05 보다 작아야 유의하다. \n",
        "### R-squred : 설명력\n",
        "### R²: 결정계수(0 < R²< 1), 0에 가까운 값을 가지는 회귀모형은 유용성이 낮은 반면, 결정계수의 값이 클수록 회귀모형의 유용성이 높다."
      ],
      "execution_count": 84,
      "outputs": []
    },
    {
      "cell_type": "markdown",
      "metadata": {
        "id": "7bUlOBXscXR7"
      },
      "source": [
        "##### ***| 해석하기 | ***\n",
        "\n",
        "1. 유의하지 않은 설명변수 (p-value > 0.05)\n",
        "  - \"age\"(나이 : p-value=0.651),\n",
        "\n",
        "  - \"Debentures\"(채권 : p-value=0.606),\n",
        "\n",
        "  - \"Government_Bonds\" (국채 : p-value=0.198),\n",
        "\n",
        "  - \"Fixed_Deposits\" (정기적금 : p-value=0.937),\n",
        "\n",
        "  - \"Factor_num\"(투자시 고려 요소 : p-value=0.067),\n",
        "\n",
        "  - \"Invest_Monitor_num\"(투자 수단 모니터링 간격 : p-value=0.664)\n",
        "\n",
        " \n",
        " 2. 기대 수익률(Expect)에 Positive한 영향을 미칩니다. (coef > 0)\n",
        "  - \"Duration\" : 투자금 예치를 원하는 기간\n",
        "\n",
        "  - \"Equity_Market\" : 주식시장 선호도\n",
        "\n",
        "  : 다른 변수의 값이 고정됐을 때, 해당 변수의 값이 클수록 기대 수익률이 높을 것입니다."
      ]
    },
    {
      "cell_type": "markdown",
      "metadata": {
        "id": "G9RNmn3bfKXu"
      },
      "source": [
        "#### 3-4 모델 예측 결과 및 성능 평가\n",
        "- 예측 결과를 가시화\n",
        "\n",
        "학습한 모델을 Test set에 적용하여 y값(“Expect”)을 예측\n",
        "\n",
        "예측 결과를 확인하기 위해 실제값과 예측값을 한 plot에 출력해 시각화"
      ]
    },
    {
      "cell_type": "code",
      "metadata": {
        "id": "L5Ua9PTpgOlZ",
        "colab": {
          "base_uri": "https://localhost:8080/",
          "height": 204
        },
        "outputId": "2226c38a-3ebd-4ee8-a9a8-427544c15f95"
      },
      "source": [
        "### 예측 결과 시각화 (test set)\n",
        "df2 = pd.DataFrame({'actual': y_test, 'prediction': pred_test})\n",
        "df2 = df2.sort_values(by='actual').reset_index(drop=True)\n",
        "df2.head()\n",
        "\n",
        "### reset_index() : 인덱스 재배열\n",
        "### drop=True : 기존 인덱스를 버리고 재배열"
      ],
      "execution_count": 85,
      "outputs": [
        {
          "output_type": "execute_result",
          "data": {
            "text/html": [
              "<div>\n",
              "<style scoped>\n",
              "    .dataframe tbody tr th:only-of-type {\n",
              "        vertical-align: middle;\n",
              "    }\n",
              "\n",
              "    .dataframe tbody tr th {\n",
              "        vertical-align: top;\n",
              "    }\n",
              "\n",
              "    .dataframe thead th {\n",
              "        text-align: right;\n",
              "    }\n",
              "</style>\n",
              "<table border=\"1\" class=\"dataframe\">\n",
              "  <thead>\n",
              "    <tr style=\"text-align: right;\">\n",
              "      <th></th>\n",
              "      <th>actual</th>\n",
              "      <th>prediction</th>\n",
              "    </tr>\n",
              "  </thead>\n",
              "  <tbody>\n",
              "    <tr>\n",
              "      <th>0</th>\n",
              "      <td>10</td>\n",
              "      <td>19.680917</td>\n",
              "    </tr>\n",
              "    <tr>\n",
              "      <th>1</th>\n",
              "      <td>10</td>\n",
              "      <td>7.285223</td>\n",
              "    </tr>\n",
              "    <tr>\n",
              "      <th>2</th>\n",
              "      <td>20</td>\n",
              "      <td>19.811827</td>\n",
              "    </tr>\n",
              "    <tr>\n",
              "      <th>3</th>\n",
              "      <td>30</td>\n",
              "      <td>28.257467</td>\n",
              "    </tr>\n",
              "    <tr>\n",
              "      <th>4</th>\n",
              "      <td>30</td>\n",
              "      <td>36.364719</td>\n",
              "    </tr>\n",
              "  </tbody>\n",
              "</table>\n",
              "</div>"
            ],
            "text/plain": [
              "   actual  prediction\n",
              "0      10   19.680917\n",
              "1      10    7.285223\n",
              "2      20   19.811827\n",
              "3      30   28.257467\n",
              "4      30   36.364719"
            ]
          },
          "metadata": {},
          "execution_count": 85
        }
      ]
    },
    {
      "cell_type": "code",
      "metadata": {
        "id": "kx-mLq-KgvtU",
        "colab": {
          "base_uri": "https://localhost:8080/",
          "height": 460
        },
        "outputId": "1ae9740b-cda4-4031-dd8b-5790159c96b6"
      },
      "source": [
        "plt.figure(figsize=(10, 7))\n",
        "plt.scatter(df2.index, df2['prediction'], marker='x', color='r')\n",
        "plt.scatter(df2.index, df2['actual'], alpha=0.3, marker='o', color='black')\n",
        "plt.title(\"Prediction Result in Test Set\", fontsize=20)\n",
        "plt.legend(['prediction', 'actual'], fontsize=12)\n",
        "plt.show()"
      ],
      "execution_count": 86,
      "outputs": [
        {
          "output_type": "display_data",
          "data": {
            "image/png": "[encoded data removed]",
            "text/plain": [
              "<Figure size 720x504 with 1 Axes>"
            ]
          },
          "metadata": {}
        }
      ]
    },
    {
      "cell_type": "markdown",
      "metadata": {
        "id": "hsQzlnIBiCo4"
      },
      "source": [
        "**- 모델 성능 평가 (R square 와 RMSE)**"
      ]
    },
    {
      "cell_type": "code",
      "metadata": {
        "id": "eyIfINhEiIQO",
        "colab": {
          "base_uri": "https://localhost:8080/"
        },
        "outputId": "ce0f5507-5d2a-4a0d-c422-7b98351ddf8c"
      },
      "source": [
        "### R square\n",
        "print(model.score(X_train, y_train))  # training set\n",
        "print(model.score(X_test, y_test))  # test set"
      ],
      "execution_count": 87,
      "outputs": [
        {
          "output_type": "stream",
          "name": "stdout",
          "text": [
            "0.8781371792558388\n",
            "0.7698451343753561\n"
          ]
        }
      ]
    },
    {
      "cell_type": "code",
      "metadata": {
        "id": "UWm3yEEdiNdD",
        "colab": {
          "base_uri": "https://localhost:8080/"
        },
        "outputId": "6139e221-b272-47fa-cdef-c87f8ce1c4ae"
      },
      "source": [
        "# RMSE\n",
        "from sklearn.metrics import mean_squared_error\n",
        "from math import sqrt\n",
        "\n",
        "# training set\n",
        "pred_train = lr.predict(X_train)\n",
        "print(sqrt(mean_squared_error(y_train, pred_train)))\n",
        "\n",
        "# test set\n",
        "print(sqrt(mean_squared_error(y_test, pred_test)))"
      ],
      "execution_count": 88,
      "outputs": [
        {
          "output_type": "stream",
          "name": "stdout",
          "text": [
            "2.751149511051133\n",
            "4.7974458373664195\n"
          ]
        }
      ]
    },
    {
      "cell_type": "code",
      "metadata": {
        "id": "lU1KCQmUiTNg"
      },
      "source": [
        "### 해설) Test set에서 해당 예측 모델의 R square가 약 0.77이고, RMSE가 약 4.80입니다."
      ],
      "execution_count": 89,
      "outputs": []
    }
  ]
}